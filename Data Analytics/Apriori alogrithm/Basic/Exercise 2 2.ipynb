{
 "cells": [
  {
   "cell_type": "code",
   "execution_count": null,
   "id": "ff5b6e10",
   "metadata": {},
   "outputs": [],
   "source": [
    "#DATAFRAME CREATION AND MANIPULATION\n",
    "#EXERCISE 2"
   ]
  },
  {
   "cell_type": "code",
   "execution_count": 2,
   "id": "bcf90a4e",
   "metadata": {
    "collapsed": true
   },
   "outputs": [
    {
     "name": "stdout",
     "output_type": "stream",
     "text": [
      "        Name Gender  Marks1  Marks2  Marks3\n",
      "0     Satish      M      34      19      50\n",
      "1       Arun      M      45      48      17\n",
      "2     Sirish      M      23      33      43\n",
      "3     Preeti      F      49      34      34\n",
      "4  Yashwanth      M      37      21      43\n",
      "5     Venkat      M      41      27      24\n",
      "6      Akhil      M      30      49      37\n",
      "7       Huma      F      19      21      27\n",
      "8     Lissie      F      48      21      19\n",
      "9       Ravi      M      25      10      49\n"
     ]
    }
   ],
   "source": [
    "#8)Create a data frame with details of 10 students and columns as Roll Number, Name, Gender, Marks1, Marks2, Marks3.\n",
    "import pandas as pd\n",
    "data = {'Name':['Satish','Arun','Sirish', 'Preeti','Yashwanth','Venkat','Akhil','Huma','Lissie','Ravi'],\n",
    "        'Gender':['M','M','M','F','M','M','M','F','F','M'],\n",
    "        'Marks1':[34,45,23,49,37,41,30,19,48,25],\n",
    "        'Marks2':[19,48,33,34,21,27,49,21,21,10],\n",
    "        'Marks3':[50,17,43,34,43,24,37,27,19,49]\n",
    "       }\n",
    "\n",
    "table = pd.DataFrame(data)\n",
    "print(table)"
   ]
  },
  {
   "cell_type": "code",
   "execution_count": 3,
   "id": "75374968",
   "metadata": {
    "scrolled": false
   },
   "outputs": [
    {
     "name": "stdout",
     "output_type": "stream",
     "text": [
      "        Name Gender  Marks1  Marks2  Marks3  Total Marks\n",
      "0     Satish      M      34      19      50          103\n",
      "1       Arun      M      45      48      17          110\n",
      "2     Sirish      M      23      33      43           99\n",
      "3     Preeti      F      49      34      34          117\n",
      "4  Yashwanth      M      37      21      43          101\n",
      "5     Venkat      M      41      27      24           92\n",
      "6      Akhil      M      30      49      37          116\n",
      "7       Huma      F      19      21      27           67\n",
      "8     Lissie      F      48      21      19           88\n",
      "9       Ravi      M      25      10      49           84\n"
     ]
    }
   ],
   "source": [
    "#9)Create a new column with total marks \n",
    "table['Total Marks'] = table['Marks1'] + table['Marks2'] + table['Marks3']\n",
    "print(table)"
   ]
  },
  {
   "cell_type": "code",
   "execution_count": 13,
   "id": "c3a3fd73",
   "metadata": {
    "scrolled": true
   },
   "outputs": [
    {
     "data": {
      "text/plain": [
       "19"
      ]
     },
     "execution_count": 13,
     "metadata": {},
     "output_type": "execute_result"
    }
   ],
   "source": [
    "#10)lowest marks in marks1\n",
    "table['Marks1'].min()"
   ]
  },
  {
   "cell_type": "code",
   "execution_count": 14,
   "id": "7505a2d8",
   "metadata": {},
   "outputs": [
    {
     "data": {
      "text/plain": [
       "49"
      ]
     },
     "execution_count": 14,
     "metadata": {},
     "output_type": "execute_result"
    }
   ],
   "source": [
    "#11)Highest marks in marks2\n",
    "table['Marks2'].max()"
   ]
  },
  {
   "cell_type": "code",
   "execution_count": 19,
   "id": "5bf1f0d5",
   "metadata": {
    "scrolled": true
   },
   "outputs": [
    {
     "data": {
      "text/plain": [
       "34.3"
      ]
     },
     "execution_count": 19,
     "metadata": {},
     "output_type": "execute_result"
    }
   ],
   "source": [
    "#12)Average marks in marks 3\n",
    "table['Marks3'].mean()"
   ]
  },
  {
   "cell_type": "code",
   "execution_count": 21,
   "id": "52c9e1b1",
   "metadata": {
    "scrolled": true
   },
   "outputs": [
    {
     "name": "stdout",
     "output_type": "stream",
     "text": [
      "Preeti is the student with the highest average of 39.0\n"
     ]
    }
   ],
   "source": [
    "#12)a)Student name with the highest average\n",
    "table['average'] = (table['Marks1'] + table['Marks2'] + table['Marks3'])/3\n",
    "max = table[\"average\"].max()\n",
    "count = 0\n",
    "for i in table[\"average\"]:\n",
    "    if(i == max):\n",
    "        print(str(table.loc[count].at[\"Name\"]) + \" is the student with the highest average of \"  + str(max))\n",
    "        break\n",
    "    else:\n",
    "        count = count + 1"
   ]
  },
  {
   "cell_type": "code",
   "execution_count": 60,
   "id": "7a05cfc4",
   "metadata": {
    "scrolled": false
   },
   "outputs": [
    {
     "data": {
      "text/plain": [
       "2"
      ]
     },
     "execution_count": 60,
     "metadata": {},
     "output_type": "execute_result"
    }
   ],
   "source": [
    "#13)To find the number of students who failed in marks2(<20)\n",
    "table[table[\"Marks2\"]<20][\"Name\"].count()"
   ]
  }
 ],
 "metadata": {
  "kernelspec": {
   "display_name": "Python 3",
   "language": "python",
   "name": "python3"
  },
  "language_info": {
   "codemirror_mode": {
    "name": "ipython",
    "version": 3
   },
   "file_extension": ".py",
   "mimetype": "text/x-python",
   "name": "python",
   "nbconvert_exporter": "python",
   "pygments_lexer": "ipython3",
   "version": "3.8.8"
  }
 },
 "nbformat": 4,
 "nbformat_minor": 5
}
