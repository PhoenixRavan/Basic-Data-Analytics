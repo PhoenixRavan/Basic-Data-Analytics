{
 "cells": [
  {
   "cell_type": "code",
   "execution_count": 30,
   "id": "ce644fb6",
   "metadata": {},
   "outputs": [],
   "source": [
    "import pandas as pd\n",
    "import matplotlib.pyplot as plt\n",
    "import numpy as np\n",
    "\n"
   ]
  },
  {
   "cell_type": "code",
   "execution_count": 31,
   "id": "f8a1e2e7",
   "metadata": {
    "collapsed": true
   },
   "outputs": [
    {
     "data": {
      "text/html": [
       "<div>\n",
       "<style scoped>\n",
       "    .dataframe tbody tr th:only-of-type {\n",
       "        vertical-align: middle;\n",
       "    }\n",
       "\n",
       "    .dataframe tbody tr th {\n",
       "        vertical-align: top;\n",
       "    }\n",
       "\n",
       "    .dataframe thead th {\n",
       "        text-align: right;\n",
       "    }\n",
       "</style>\n",
       "<table border=\"1\" class=\"dataframe\">\n",
       "  <thead>\n",
       "    <tr style=\"text-align: right;\">\n",
       "      <th></th>\n",
       "      <th>SlNo</th>\n",
       "      <th>Release Date</th>\n",
       "      <th>MovieName</th>\n",
       "      <th>ReleaseTime</th>\n",
       "      <th>Genre</th>\n",
       "      <th>Budget</th>\n",
       "      <th>BoxOfficeCollection</th>\n",
       "      <th>YoutubeViews</th>\n",
       "      <th>YoutubeLikes</th>\n",
       "      <th>YoutubeDislikes</th>\n",
       "    </tr>\n",
       "  </thead>\n",
       "  <tbody>\n",
       "    <tr>\n",
       "      <th>0</th>\n",
       "      <td>1</td>\n",
       "      <td>18-Apr-14</td>\n",
       "      <td>2 States</td>\n",
       "      <td>LW</td>\n",
       "      <td>Romance</td>\n",
       "      <td>36</td>\n",
       "      <td>104.00</td>\n",
       "      <td>8576361</td>\n",
       "      <td>26622</td>\n",
       "      <td>2527</td>\n",
       "    </tr>\n",
       "    <tr>\n",
       "      <th>1</th>\n",
       "      <td>2</td>\n",
       "      <td>04-Jan-13</td>\n",
       "      <td>Table No. 21</td>\n",
       "      <td>N</td>\n",
       "      <td>Thriller</td>\n",
       "      <td>10</td>\n",
       "      <td>12.00</td>\n",
       "      <td>1087320</td>\n",
       "      <td>1129</td>\n",
       "      <td>137</td>\n",
       "    </tr>\n",
       "    <tr>\n",
       "      <th>2</th>\n",
       "      <td>3</td>\n",
       "      <td>18-Jul-14</td>\n",
       "      <td>Amit Sahni Ki List</td>\n",
       "      <td>N</td>\n",
       "      <td>Comedy</td>\n",
       "      <td>10</td>\n",
       "      <td>4.00</td>\n",
       "      <td>572336</td>\n",
       "      <td>586</td>\n",
       "      <td>54</td>\n",
       "    </tr>\n",
       "    <tr>\n",
       "      <th>3</th>\n",
       "      <td>4</td>\n",
       "      <td>04-Jan-13</td>\n",
       "      <td>Rajdhani Express</td>\n",
       "      <td>N</td>\n",
       "      <td>Drama</td>\n",
       "      <td>7</td>\n",
       "      <td>0.35</td>\n",
       "      <td>42626</td>\n",
       "      <td>86</td>\n",
       "      <td>19</td>\n",
       "    </tr>\n",
       "    <tr>\n",
       "      <th>4</th>\n",
       "      <td>5</td>\n",
       "      <td>04-Jul-14</td>\n",
       "      <td>Bobby Jasoos</td>\n",
       "      <td>N</td>\n",
       "      <td>Comedy</td>\n",
       "      <td>18</td>\n",
       "      <td>10.80</td>\n",
       "      <td>3113427</td>\n",
       "      <td>4512</td>\n",
       "      <td>1224</td>\n",
       "    </tr>\n",
       "    <tr>\n",
       "      <th>...</th>\n",
       "      <td>...</td>\n",
       "      <td>...</td>\n",
       "      <td>...</td>\n",
       "      <td>...</td>\n",
       "      <td>...</td>\n",
       "      <td>...</td>\n",
       "      <td>...</td>\n",
       "      <td>...</td>\n",
       "      <td>...</td>\n",
       "      <td>...</td>\n",
       "    </tr>\n",
       "    <tr>\n",
       "      <th>144</th>\n",
       "      <td>145</td>\n",
       "      <td>27-Feb-15</td>\n",
       "      <td>Dum Laga Ke Haisha</td>\n",
       "      <td>N</td>\n",
       "      <td>Comedy</td>\n",
       "      <td>15</td>\n",
       "      <td>30.00</td>\n",
       "      <td>3250917</td>\n",
       "      <td>8185</td>\n",
       "      <td>615</td>\n",
       "    </tr>\n",
       "    <tr>\n",
       "      <th>145</th>\n",
       "      <td>146</td>\n",
       "      <td>13-Mar-15</td>\n",
       "      <td>NH10</td>\n",
       "      <td>N</td>\n",
       "      <td>Thriller</td>\n",
       "      <td>13</td>\n",
       "      <td>32.10</td>\n",
       "      <td>5592977</td>\n",
       "      <td>15464</td>\n",
       "      <td>1513</td>\n",
       "    </tr>\n",
       "    <tr>\n",
       "      <th>146</th>\n",
       "      <td>147</td>\n",
       "      <td>20-Mar-15</td>\n",
       "      <td>Dilliwali Zaalim Girlfriend</td>\n",
       "      <td>N</td>\n",
       "      <td>Comedy</td>\n",
       "      <td>32</td>\n",
       "      <td>12.00</td>\n",
       "      <td>2316047</td>\n",
       "      <td>4289</td>\n",
       "      <td>807</td>\n",
       "    </tr>\n",
       "    <tr>\n",
       "      <th>147</th>\n",
       "      <td>148</td>\n",
       "      <td>20-Mar-15</td>\n",
       "      <td>Hunterrr</td>\n",
       "      <td>N</td>\n",
       "      <td>Comedy</td>\n",
       "      <td>5</td>\n",
       "      <td>11.89</td>\n",
       "      <td>4674795</td>\n",
       "      <td>3706</td>\n",
       "      <td>762</td>\n",
       "    </tr>\n",
       "    <tr>\n",
       "      <th>148</th>\n",
       "      <td>149</td>\n",
       "      <td>23-May-14</td>\n",
       "      <td>Kochadaiiyaan</td>\n",
       "      <td>HS</td>\n",
       "      <td>Action</td>\n",
       "      <td>150</td>\n",
       "      <td>120.00</td>\n",
       "      <td>4740727</td>\n",
       "      <td>13466</td>\n",
       "      <td>2649</td>\n",
       "    </tr>\n",
       "  </tbody>\n",
       "</table>\n",
       "<p>149 rows × 10 columns</p>\n",
       "</div>"
      ],
      "text/plain": [
       "     SlNo Release Date                    MovieName ReleaseTime     Genre  \\\n",
       "0       1    18-Apr-14                     2 States          LW   Romance   \n",
       "1       2    04-Jan-13                 Table No. 21           N  Thriller   \n",
       "2       3    18-Jul-14           Amit Sahni Ki List           N    Comedy   \n",
       "3       4    04-Jan-13             Rajdhani Express           N     Drama   \n",
       "4       5    04-Jul-14                 Bobby Jasoos           N    Comedy   \n",
       "..    ...          ...                          ...         ...       ...   \n",
       "144   145    27-Feb-15           Dum Laga Ke Haisha           N    Comedy   \n",
       "145   146    13-Mar-15                         NH10           N  Thriller   \n",
       "146   147    20-Mar-15  Dilliwali Zaalim Girlfriend           N    Comedy   \n",
       "147   148    20-Mar-15                     Hunterrr           N    Comedy   \n",
       "148   149    23-May-14                Kochadaiiyaan          HS    Action   \n",
       "\n",
       "     Budget  BoxOfficeCollection  YoutubeViews  YoutubeLikes  YoutubeDislikes  \n",
       "0        36               104.00       8576361         26622             2527  \n",
       "1        10                12.00       1087320          1129              137  \n",
       "2        10                 4.00        572336           586               54  \n",
       "3         7                 0.35         42626            86               19  \n",
       "4        18                10.80       3113427          4512             1224  \n",
       "..      ...                  ...           ...           ...              ...  \n",
       "144      15                30.00       3250917          8185              615  \n",
       "145      13                32.10       5592977         15464             1513  \n",
       "146      32                12.00       2316047          4289              807  \n",
       "147       5                11.89       4674795          3706              762  \n",
       "148     150               120.00       4740727         13466             2649  \n",
       "\n",
       "[149 rows x 10 columns]"
      ]
     },
     "execution_count": 31,
     "metadata": {},
     "output_type": "execute_result"
    }
   ],
   "source": [
    "bwood = pd.read_csv(\"bollywood.csv\")\n",
    "bwood\n",
    "for i in bwood[\"Genre\"]:\n",
    "    i.lstrip()\n",
    "bwood"
   ]
  },
  {
   "cell_type": "markdown",
   "id": "acaf13d5",
   "metadata": {},
   "source": [
    "## 1)No of records in the data set"
   ]
  },
  {
   "cell_type": "code",
   "execution_count": 141,
   "id": "8bd5cef4",
   "metadata": {},
   "outputs": [
    {
     "data": {
      "text/plain": [
       "149"
      ]
     },
     "execution_count": 141,
     "metadata": {},
     "output_type": "execute_result"
    }
   ],
   "source": [
    "bwood[\"SlNo\"].count()"
   ]
  },
  {
   "cell_type": "markdown",
   "id": "a2f55449",
   "metadata": {},
   "source": [
    "## 2)No. of movies in each genre"
   ]
  },
  {
   "cell_type": "code",
   "execution_count": 142,
   "id": "d4c68a5b",
   "metadata": {},
   "outputs": [
    {
     "data": {
      "text/plain": [
       "Comedy      36\n",
       "Drama       35\n",
       "Thriller    29\n",
       "Romance     25\n",
       "Action      24\n",
       "Name: Genre, dtype: int64"
      ]
     },
     "execution_count": 142,
     "metadata": {},
     "output_type": "execute_result"
    }
   ],
   "source": [
    "tally=bwood[\"Genre\"].value_counts()\n",
    "tally"
   ]
  },
  {
   "cell_type": "markdown",
   "id": "6e3407e4",
   "metadata": {},
   "source": [
    "## 3)Genre with highest number of releases"
   ]
  },
  {
   "cell_type": "code",
   "execution_count": 143,
   "id": "9346641f",
   "metadata": {
    "scrolled": true
   },
   "outputs": [],
   "source": [
    "#Comedy"
   ]
  },
  {
   "cell_type": "markdown",
   "id": "92e98198",
   "metadata": {},
   "source": [
    "## 4)Crosstab of genre and releasetime"
   ]
  },
  {
   "cell_type": "code",
   "execution_count": 145,
   "id": "7a05ff55",
   "metadata": {},
   "outputs": [
    {
     "data": {
      "text/html": [
       "<div>\n",
       "<style scoped>\n",
       "    .dataframe tbody tr th:only-of-type {\n",
       "        vertical-align: middle;\n",
       "    }\n",
       "\n",
       "    .dataframe tbody tr th {\n",
       "        vertical-align: top;\n",
       "    }\n",
       "\n",
       "    .dataframe thead th {\n",
       "        text-align: right;\n",
       "    }\n",
       "</style>\n",
       "<table border=\"1\" class=\"dataframe\">\n",
       "  <thead>\n",
       "    <tr style=\"text-align: right;\">\n",
       "      <th>Genre</th>\n",
       "      <th>Action</th>\n",
       "      <th>Comedy</th>\n",
       "      <th>Drama</th>\n",
       "      <th>Romance</th>\n",
       "      <th>Thriller</th>\n",
       "    </tr>\n",
       "    <tr>\n",
       "      <th>ReleaseTime</th>\n",
       "      <th></th>\n",
       "      <th></th>\n",
       "      <th></th>\n",
       "      <th></th>\n",
       "      <th></th>\n",
       "    </tr>\n",
       "  </thead>\n",
       "  <tbody>\n",
       "    <tr>\n",
       "      <th>FS</th>\n",
       "      <td>3</td>\n",
       "      <td>3</td>\n",
       "      <td>4</td>\n",
       "      <td>3</td>\n",
       "      <td>4</td>\n",
       "    </tr>\n",
       "    <tr>\n",
       "      <th>HS</th>\n",
       "      <td>3</td>\n",
       "      <td>5</td>\n",
       "      <td>6</td>\n",
       "      <td>3</td>\n",
       "      <td>1</td>\n",
       "    </tr>\n",
       "    <tr>\n",
       "      <th>LW</th>\n",
       "      <td>3</td>\n",
       "      <td>5</td>\n",
       "      <td>1</td>\n",
       "      <td>4</td>\n",
       "      <td>2</td>\n",
       "    </tr>\n",
       "    <tr>\n",
       "      <th>N</th>\n",
       "      <td>15</td>\n",
       "      <td>23</td>\n",
       "      <td>24</td>\n",
       "      <td>15</td>\n",
       "      <td>22</td>\n",
       "    </tr>\n",
       "  </tbody>\n",
       "</table>\n",
       "</div>"
      ],
      "text/plain": [
       "Genre        Action  Comedy  Drama  Romance  Thriller\n",
       "ReleaseTime                                          \n",
       "FS                3       3      4        3         4\n",
       "HS                3       5      6        3         1\n",
       "LW                3       5      1        4         2\n",
       "N                15      23     24       15        22"
      ]
     },
     "execution_count": 145,
     "metadata": {},
     "output_type": "execute_result"
    }
   ],
   "source": [
    "df=pd.crosstab(bwood[\"ReleaseTime\"],bwood[\"Genre\"])\n",
    "df"
   ]
  },
  {
   "cell_type": "markdown",
   "id": "1e667aee",
   "metadata": {},
   "source": [
    "## 5)Month were maximum movies were released"
   ]
  },
  {
   "cell_type": "code",
   "execution_count": 146,
   "id": "e31029c0",
   "metadata": {},
   "outputs": [
    {
     "data": {
      "text/html": [
       "<div>\n",
       "<style scoped>\n",
       "    .dataframe tbody tr th:only-of-type {\n",
       "        vertical-align: middle;\n",
       "    }\n",
       "\n",
       "    .dataframe tbody tr th {\n",
       "        vertical-align: top;\n",
       "    }\n",
       "\n",
       "    .dataframe thead th {\n",
       "        text-align: right;\n",
       "    }\n",
       "</style>\n",
       "<table border=\"1\" class=\"dataframe\">\n",
       "  <thead>\n",
       "    <tr style=\"text-align: right;\">\n",
       "      <th></th>\n",
       "      <th>SlNo</th>\n",
       "      <th>Release Date</th>\n",
       "      <th>MovieName</th>\n",
       "      <th>ReleaseTime</th>\n",
       "      <th>Genre</th>\n",
       "      <th>Budget</th>\n",
       "      <th>BoxOfficeCollection</th>\n",
       "      <th>YoutubeViews</th>\n",
       "      <th>YoutubeLikes</th>\n",
       "      <th>YoutubeDislikes</th>\n",
       "      <th>month</th>\n",
       "    </tr>\n",
       "  </thead>\n",
       "  <tbody>\n",
       "    <tr>\n",
       "      <th>0</th>\n",
       "      <td>1</td>\n",
       "      <td>18-Apr-14</td>\n",
       "      <td>2 States</td>\n",
       "      <td>LW</td>\n",
       "      <td>Romance</td>\n",
       "      <td>36</td>\n",
       "      <td>104.00</td>\n",
       "      <td>8576361</td>\n",
       "      <td>26622</td>\n",
       "      <td>2527</td>\n",
       "      <td>4</td>\n",
       "    </tr>\n",
       "    <tr>\n",
       "      <th>1</th>\n",
       "      <td>2</td>\n",
       "      <td>04-Jan-13</td>\n",
       "      <td>Table No. 21</td>\n",
       "      <td>N</td>\n",
       "      <td>Thriller</td>\n",
       "      <td>10</td>\n",
       "      <td>12.00</td>\n",
       "      <td>1087320</td>\n",
       "      <td>1129</td>\n",
       "      <td>137</td>\n",
       "      <td>1</td>\n",
       "    </tr>\n",
       "    <tr>\n",
       "      <th>2</th>\n",
       "      <td>3</td>\n",
       "      <td>18-Jul-14</td>\n",
       "      <td>Amit Sahni Ki List</td>\n",
       "      <td>N</td>\n",
       "      <td>Comedy</td>\n",
       "      <td>10</td>\n",
       "      <td>4.00</td>\n",
       "      <td>572336</td>\n",
       "      <td>586</td>\n",
       "      <td>54</td>\n",
       "      <td>7</td>\n",
       "    </tr>\n",
       "    <tr>\n",
       "      <th>3</th>\n",
       "      <td>4</td>\n",
       "      <td>04-Jan-13</td>\n",
       "      <td>Rajdhani Express</td>\n",
       "      <td>N</td>\n",
       "      <td>Drama</td>\n",
       "      <td>7</td>\n",
       "      <td>0.35</td>\n",
       "      <td>42626</td>\n",
       "      <td>86</td>\n",
       "      <td>19</td>\n",
       "      <td>1</td>\n",
       "    </tr>\n",
       "    <tr>\n",
       "      <th>4</th>\n",
       "      <td>5</td>\n",
       "      <td>04-Jul-14</td>\n",
       "      <td>Bobby Jasoos</td>\n",
       "      <td>N</td>\n",
       "      <td>Comedy</td>\n",
       "      <td>18</td>\n",
       "      <td>10.80</td>\n",
       "      <td>3113427</td>\n",
       "      <td>4512</td>\n",
       "      <td>1224</td>\n",
       "      <td>7</td>\n",
       "    </tr>\n",
       "    <tr>\n",
       "      <th>...</th>\n",
       "      <td>...</td>\n",
       "      <td>...</td>\n",
       "      <td>...</td>\n",
       "      <td>...</td>\n",
       "      <td>...</td>\n",
       "      <td>...</td>\n",
       "      <td>...</td>\n",
       "      <td>...</td>\n",
       "      <td>...</td>\n",
       "      <td>...</td>\n",
       "      <td>...</td>\n",
       "    </tr>\n",
       "    <tr>\n",
       "      <th>144</th>\n",
       "      <td>145</td>\n",
       "      <td>27-Feb-15</td>\n",
       "      <td>Dum Laga Ke Haisha</td>\n",
       "      <td>N</td>\n",
       "      <td>Comedy</td>\n",
       "      <td>15</td>\n",
       "      <td>30.00</td>\n",
       "      <td>3250917</td>\n",
       "      <td>8185</td>\n",
       "      <td>615</td>\n",
       "      <td>2</td>\n",
       "    </tr>\n",
       "    <tr>\n",
       "      <th>145</th>\n",
       "      <td>146</td>\n",
       "      <td>13-Mar-15</td>\n",
       "      <td>NH10</td>\n",
       "      <td>N</td>\n",
       "      <td>Thriller</td>\n",
       "      <td>13</td>\n",
       "      <td>32.10</td>\n",
       "      <td>5592977</td>\n",
       "      <td>15464</td>\n",
       "      <td>1513</td>\n",
       "      <td>3</td>\n",
       "    </tr>\n",
       "    <tr>\n",
       "      <th>146</th>\n",
       "      <td>147</td>\n",
       "      <td>20-Mar-15</td>\n",
       "      <td>Dilliwali Zaalim Girlfriend</td>\n",
       "      <td>N</td>\n",
       "      <td>Comedy</td>\n",
       "      <td>32</td>\n",
       "      <td>12.00</td>\n",
       "      <td>2316047</td>\n",
       "      <td>4289</td>\n",
       "      <td>807</td>\n",
       "      <td>3</td>\n",
       "    </tr>\n",
       "    <tr>\n",
       "      <th>147</th>\n",
       "      <td>148</td>\n",
       "      <td>20-Mar-15</td>\n",
       "      <td>Hunterrr</td>\n",
       "      <td>N</td>\n",
       "      <td>Comedy</td>\n",
       "      <td>5</td>\n",
       "      <td>11.89</td>\n",
       "      <td>4674795</td>\n",
       "      <td>3706</td>\n",
       "      <td>762</td>\n",
       "      <td>3</td>\n",
       "    </tr>\n",
       "    <tr>\n",
       "      <th>148</th>\n",
       "      <td>149</td>\n",
       "      <td>23-May-14</td>\n",
       "      <td>Kochadaiiyaan</td>\n",
       "      <td>HS</td>\n",
       "      <td>Action</td>\n",
       "      <td>150</td>\n",
       "      <td>120.00</td>\n",
       "      <td>4740727</td>\n",
       "      <td>13466</td>\n",
       "      <td>2649</td>\n",
       "      <td>5</td>\n",
       "    </tr>\n",
       "  </tbody>\n",
       "</table>\n",
       "<p>149 rows × 11 columns</p>\n",
       "</div>"
      ],
      "text/plain": [
       "     SlNo Release Date                    MovieName ReleaseTime     Genre  \\\n",
       "0       1    18-Apr-14                     2 States          LW   Romance   \n",
       "1       2    04-Jan-13                 Table No. 21           N  Thriller   \n",
       "2       3    18-Jul-14           Amit Sahni Ki List           N    Comedy   \n",
       "3       4    04-Jan-13             Rajdhani Express           N     Drama   \n",
       "4       5    04-Jul-14                 Bobby Jasoos           N    Comedy   \n",
       "..    ...          ...                          ...         ...       ...   \n",
       "144   145    27-Feb-15           Dum Laga Ke Haisha           N    Comedy   \n",
       "145   146    13-Mar-15                         NH10           N  Thriller   \n",
       "146   147    20-Mar-15  Dilliwali Zaalim Girlfriend           N    Comedy   \n",
       "147   148    20-Mar-15                     Hunterrr           N    Comedy   \n",
       "148   149    23-May-14                Kochadaiiyaan          HS    Action   \n",
       "\n",
       "     Budget  BoxOfficeCollection  YoutubeViews  YoutubeLikes  YoutubeDislikes  \\\n",
       "0        36               104.00       8576361         26622             2527   \n",
       "1        10                12.00       1087320          1129              137   \n",
       "2        10                 4.00        572336           586               54   \n",
       "3         7                 0.35         42626            86               19   \n",
       "4        18                10.80       3113427          4512             1224   \n",
       "..      ...                  ...           ...           ...              ...   \n",
       "144      15                30.00       3250917          8185              615   \n",
       "145      13                32.10       5592977         15464             1513   \n",
       "146      32                12.00       2316047          4289              807   \n",
       "147       5                11.89       4674795          3706              762   \n",
       "148     150               120.00       4740727         13466             2649   \n",
       "\n",
       "     month  \n",
       "0        4  \n",
       "1        1  \n",
       "2        7  \n",
       "3        1  \n",
       "4        7  \n",
       "..     ...  \n",
       "144      2  \n",
       "145      3  \n",
       "146      3  \n",
       "147      3  \n",
       "148      5  \n",
       "\n",
       "[149 rows x 11 columns]"
      ]
     },
     "execution_count": 146,
     "metadata": {},
     "output_type": "execute_result"
    }
   ],
   "source": [
    "date = pd.to_datetime(bwood[\"Release Date\"])\n",
    "frame = pd.to_datetime(date, dayfirst = True)\n",
    "frame = pd.DataFrame([frame]).transpose()\n",
    "frame['date']= frame\n",
    "bwood['month']= frame['date'].dt.month\n",
    "bwood"
   ]
  },
  {
   "cell_type": "code",
   "execution_count": 147,
   "id": "0133499e",
   "metadata": {},
   "outputs": [
    {
     "name": "stdout",
     "output_type": "stream",
     "text": [
      "month 1\n"
     ]
    }
   ],
   "source": [
    "fram=bwood[\"month\"].value_counts()\n",
    "high = bwood[\"month\"].value_counts().max()\n",
    "fram = pd.DataFrame([fram]).transpose()\n",
    "fram['ind']=(fram.index)\n",
    "count = 1\n",
    "\n",
    "\n",
    "for i in fram[\"month\"]:\n",
    "    if(i == high):\n",
    "        print(\"month \" + str(fram.loc[count].at[\"ind\"]))\n",
    "        break\n",
    "    else:\n",
    "        count = count + 1\n",
    "        "
   ]
  },
  {
   "cell_type": "markdown",
   "id": "b5dfe670",
   "metadata": {},
   "source": [
    "## 6)Month with the maximum hig budget movies"
   ]
  },
  {
   "cell_type": "code",
   "execution_count": 157,
   "id": "3ac93d48",
   "metadata": {
    "scrolled": true
   },
   "outputs": [
    {
     "data": {
      "text/html": [
       "<div>\n",
       "<style scoped>\n",
       "    .dataframe tbody tr th:only-of-type {\n",
       "        vertical-align: middle;\n",
       "    }\n",
       "\n",
       "    .dataframe tbody tr th {\n",
       "        vertical-align: top;\n",
       "    }\n",
       "\n",
       "    .dataframe thead th {\n",
       "        text-align: right;\n",
       "    }\n",
       "</style>\n",
       "<table border=\"1\" class=\"dataframe\">\n",
       "  <thead>\n",
       "    <tr style=\"text-align: right;\">\n",
       "      <th></th>\n",
       "      <th>month</th>\n",
       "    </tr>\n",
       "  </thead>\n",
       "  <tbody>\n",
       "    <tr>\n",
       "      <th>2</th>\n",
       "      <td>9</td>\n",
       "    </tr>\n",
       "    <tr>\n",
       "      <th>1</th>\n",
       "      <td>8</td>\n",
       "    </tr>\n",
       "    <tr>\n",
       "      <th>3</th>\n",
       "      <td>7</td>\n",
       "    </tr>\n",
       "    <tr>\n",
       "      <th>8</th>\n",
       "      <td>7</td>\n",
       "    </tr>\n",
       "    <tr>\n",
       "      <th>7</th>\n",
       "      <td>6</td>\n",
       "    </tr>\n",
       "    <tr>\n",
       "      <th>11</th>\n",
       "      <td>6</td>\n",
       "    </tr>\n",
       "    <tr>\n",
       "      <th>6</th>\n",
       "      <td>5</td>\n",
       "    </tr>\n",
       "    <tr>\n",
       "      <th>9</th>\n",
       "      <td>5</td>\n",
       "    </tr>\n",
       "    <tr>\n",
       "      <th>4</th>\n",
       "      <td>4</td>\n",
       "    </tr>\n",
       "    <tr>\n",
       "      <th>10</th>\n",
       "      <td>4</td>\n",
       "    </tr>\n",
       "    <tr>\n",
       "      <th>5</th>\n",
       "      <td>3</td>\n",
       "    </tr>\n",
       "    <tr>\n",
       "      <th>12</th>\n",
       "      <td>2</td>\n",
       "    </tr>\n",
       "  </tbody>\n",
       "</table>\n",
       "</div>"
      ],
      "text/plain": [
       "    month\n",
       "2       9\n",
       "1       8\n",
       "3       7\n",
       "8       7\n",
       "7       6\n",
       "11      6\n",
       "6       5\n",
       "9       5\n",
       "4       4\n",
       "10      4\n",
       "5       3\n",
       "12      2"
      ]
     },
     "execution_count": 157,
     "metadata": {},
     "output_type": "execute_result"
    }
   ],
   "source": [
    "highbud = bwood[bwood[\"Budget\"] >= 25]\n",
    "pd.DataFrame(highbud['month'].value_counts())\n",
    "\n"
   ]
  },
  {
   "cell_type": "code",
   "execution_count": null,
   "id": "1446cf6a",
   "metadata": {},
   "outputs": [],
   "source": [
    "#Month 2(Feb)"
   ]
  },
  {
   "cell_type": "markdown",
   "id": "72e8c88b",
   "metadata": {},
   "source": [
    "## 7) top 10 movies based on RO1"
   ]
  },
  {
   "cell_type": "code",
   "execution_count": 158,
   "id": "d3e79caa",
   "metadata": {},
   "outputs": [
    {
     "data": {
      "text/html": [
       "<div>\n",
       "<style scoped>\n",
       "    .dataframe tbody tr th:only-of-type {\n",
       "        vertical-align: middle;\n",
       "    }\n",
       "\n",
       "    .dataframe tbody tr th {\n",
       "        vertical-align: top;\n",
       "    }\n",
       "\n",
       "    .dataframe thead th {\n",
       "        text-align: right;\n",
       "    }\n",
       "</style>\n",
       "<table border=\"1\" class=\"dataframe\">\n",
       "  <thead>\n",
       "    <tr style=\"text-align: right;\">\n",
       "      <th></th>\n",
       "      <th>SlNo</th>\n",
       "      <th>Release Date</th>\n",
       "      <th>MovieName</th>\n",
       "      <th>ReleaseTime</th>\n",
       "      <th>Genre</th>\n",
       "      <th>Budget</th>\n",
       "      <th>BoxOfficeCollection</th>\n",
       "      <th>YoutubeViews</th>\n",
       "      <th>YoutubeLikes</th>\n",
       "      <th>YoutubeDislikes</th>\n",
       "      <th>month</th>\n",
       "      <th>ROI</th>\n",
       "    </tr>\n",
       "  </thead>\n",
       "  <tbody>\n",
       "    <tr>\n",
       "      <th>64</th>\n",
       "      <td>65</td>\n",
       "      <td>26-Apr-13</td>\n",
       "      <td>Aashiqui 2</td>\n",
       "      <td>N</td>\n",
       "      <td>Romance</td>\n",
       "      <td>12</td>\n",
       "      <td>110.0</td>\n",
       "      <td>2926673</td>\n",
       "      <td>4944</td>\n",
       "      <td>628</td>\n",
       "      <td>4</td>\n",
       "      <td>10.166667</td>\n",
       "    </tr>\n",
       "    <tr>\n",
       "      <th>89</th>\n",
       "      <td>90</td>\n",
       "      <td>19-Dec-14</td>\n",
       "      <td>PK</td>\n",
       "      <td>HS</td>\n",
       "      <td>Drama</td>\n",
       "      <td>85</td>\n",
       "      <td>735.0</td>\n",
       "      <td>13270623</td>\n",
       "      <td>43767</td>\n",
       "      <td>5693</td>\n",
       "      <td>12</td>\n",
       "      <td>9.647059</td>\n",
       "    </tr>\n",
       "    <tr>\n",
       "      <th>132</th>\n",
       "      <td>133</td>\n",
       "      <td>13-Sep-13</td>\n",
       "      <td>Grand Masti</td>\n",
       "      <td>LW</td>\n",
       "      <td>Comedy</td>\n",
       "      <td>35</td>\n",
       "      <td>298.0</td>\n",
       "      <td>1795640</td>\n",
       "      <td>3015</td>\n",
       "      <td>721</td>\n",
       "      <td>9</td>\n",
       "      <td>9.514286</td>\n",
       "    </tr>\n",
       "    <tr>\n",
       "      <th>135</th>\n",
       "      <td>136</td>\n",
       "      <td>20-Sep-13</td>\n",
       "      <td>The Lunchbox</td>\n",
       "      <td>N</td>\n",
       "      <td>Drama</td>\n",
       "      <td>10</td>\n",
       "      <td>85.0</td>\n",
       "      <td>1064854</td>\n",
       "      <td>4054</td>\n",
       "      <td>285</td>\n",
       "      <td>9</td>\n",
       "      <td>9.500000</td>\n",
       "    </tr>\n",
       "    <tr>\n",
       "      <th>87</th>\n",
       "      <td>88</td>\n",
       "      <td>14-Jun-13</td>\n",
       "      <td>Fukrey</td>\n",
       "      <td>N</td>\n",
       "      <td>Comedy</td>\n",
       "      <td>5</td>\n",
       "      <td>36.2</td>\n",
       "      <td>227912</td>\n",
       "      <td>222</td>\n",
       "      <td>39</td>\n",
       "      <td>6</td>\n",
       "      <td>8.240000</td>\n",
       "    </tr>\n",
       "    <tr>\n",
       "      <th>58</th>\n",
       "      <td>59</td>\n",
       "      <td>05-Sep-14</td>\n",
       "      <td>Mary Kom</td>\n",
       "      <td>N</td>\n",
       "      <td>Drama</td>\n",
       "      <td>15</td>\n",
       "      <td>104.0</td>\n",
       "      <td>6086811</td>\n",
       "      <td>26560</td>\n",
       "      <td>1647</td>\n",
       "      <td>9</td>\n",
       "      <td>7.933333</td>\n",
       "    </tr>\n",
       "    <tr>\n",
       "      <th>128</th>\n",
       "      <td>129</td>\n",
       "      <td>18-Oct-13</td>\n",
       "      <td>Shahid</td>\n",
       "      <td>FS</td>\n",
       "      <td>Drama</td>\n",
       "      <td>6</td>\n",
       "      <td>40.0</td>\n",
       "      <td>1148516</td>\n",
       "      <td>3155</td>\n",
       "      <td>396</td>\n",
       "      <td>10</td>\n",
       "      <td>7.666667</td>\n",
       "    </tr>\n",
       "    <tr>\n",
       "      <th>37</th>\n",
       "      <td>38</td>\n",
       "      <td>11-Jul-14</td>\n",
       "      <td>Humpty Sharma Ki Dulhania</td>\n",
       "      <td>N</td>\n",
       "      <td>Romance</td>\n",
       "      <td>20</td>\n",
       "      <td>130.0</td>\n",
       "      <td>6604595</td>\n",
       "      <td>14535</td>\n",
       "      <td>2208</td>\n",
       "      <td>7</td>\n",
       "      <td>7.500000</td>\n",
       "    </tr>\n",
       "    <tr>\n",
       "      <th>101</th>\n",
       "      <td>102</td>\n",
       "      <td>12-Jul-13</td>\n",
       "      <td>Bhaag Milkha Bhaag</td>\n",
       "      <td>N</td>\n",
       "      <td>Drama</td>\n",
       "      <td>30</td>\n",
       "      <td>164.0</td>\n",
       "      <td>2635390</td>\n",
       "      <td>4622</td>\n",
       "      <td>456</td>\n",
       "      <td>7</td>\n",
       "      <td>6.466667</td>\n",
       "    </tr>\n",
       "    <tr>\n",
       "      <th>115</th>\n",
       "      <td>116</td>\n",
       "      <td>09-Aug-13</td>\n",
       "      <td>Chennai Express</td>\n",
       "      <td>FS</td>\n",
       "      <td>Comedy</td>\n",
       "      <td>75</td>\n",
       "      <td>395.0</td>\n",
       "      <td>1882346</td>\n",
       "      <td>7954</td>\n",
       "      <td>1593</td>\n",
       "      <td>8</td>\n",
       "      <td>6.266667</td>\n",
       "    </tr>\n",
       "  </tbody>\n",
       "</table>\n",
       "</div>"
      ],
      "text/plain": [
       "     SlNo Release Date                  MovieName ReleaseTime    Genre  \\\n",
       "64     65    26-Apr-13                 Aashiqui 2           N  Romance   \n",
       "89     90    19-Dec-14                         PK          HS    Drama   \n",
       "132   133    13-Sep-13                Grand Masti          LW   Comedy   \n",
       "135   136    20-Sep-13               The Lunchbox           N    Drama   \n",
       "87     88    14-Jun-13                     Fukrey           N   Comedy   \n",
       "58     59    05-Sep-14                   Mary Kom           N    Drama   \n",
       "128   129    18-Oct-13                     Shahid          FS    Drama   \n",
       "37     38    11-Jul-14  Humpty Sharma Ki Dulhania           N  Romance   \n",
       "101   102    12-Jul-13         Bhaag Milkha Bhaag           N    Drama   \n",
       "115   116    09-Aug-13            Chennai Express          FS   Comedy   \n",
       "\n",
       "     Budget  BoxOfficeCollection  YoutubeViews  YoutubeLikes  YoutubeDislikes  \\\n",
       "64       12                110.0       2926673          4944              628   \n",
       "89       85                735.0      13270623         43767             5693   \n",
       "132      35                298.0       1795640          3015              721   \n",
       "135      10                 85.0       1064854          4054              285   \n",
       "87        5                 36.2        227912           222               39   \n",
       "58       15                104.0       6086811         26560             1647   \n",
       "128       6                 40.0       1148516          3155              396   \n",
       "37       20                130.0       6604595         14535             2208   \n",
       "101      30                164.0       2635390          4622              456   \n",
       "115      75                395.0       1882346          7954             1593   \n",
       "\n",
       "     month        ROI  \n",
       "64       4  10.166667  \n",
       "89      12   9.647059  \n",
       "132      9   9.514286  \n",
       "135      9   9.500000  \n",
       "87       6   8.240000  \n",
       "58       9   7.933333  \n",
       "128     10   7.666667  \n",
       "37       7   7.500000  \n",
       "101      7   6.466667  \n",
       "115      8   6.266667  "
      ]
     },
     "execution_count": 158,
     "metadata": {},
     "output_type": "execute_result"
    }
   ],
   "source": [
    "bwood['ROI'] = (bwood['BoxOfficeCollection'] + bwood['Budget'])/bwood['Budget']\n",
    "bwood.sort_values(by = ['ROI'], ascending=False).head(10)\n"
   ]
  },
  {
   "cell_type": "markdown",
   "id": "51800331",
   "metadata": {},
   "source": [
    "##  8)time of high ROI"
   ]
  },
  {
   "cell_type": "code",
   "execution_count": 159,
   "id": "7bb37bb8",
   "metadata": {},
   "outputs": [
    {
     "name": "stdout",
     "output_type": "stream",
     "text": [
      "The average ROI of movies released on a normal day is 2.6577216305350873\n",
      "The average ROI of movies released on a long weekend is 3.127205309873797\n",
      "The average ROI of movies released on a holiday is 2.8508667840873723\n",
      "The average ROI of movies released on a festival day is 2.9738532013595953\n",
      "\n",
      "Therefore a movie release on a long weekend has a more ROI than a movie released on a festive day\n"
     ]
    }
   ],
   "source": [
    "\n",
    "print(\"The average ROI of movies released on a normal day is \" + str(bwood[bwood.ReleaseTime == 'N'].ROI.mean()))\n",
    "print(\"The average ROI of movies released on a long weekend is \" + str(bwood[bwood.ReleaseTime == 'LW'].ROI.mean()))\n",
    "print(\"The average ROI of movies released on a holiday is \" + str(bwood[bwood.ReleaseTime == 'HS'].ROI.mean()))\n",
    "print(\"The average ROI of movies released on a festival day is \" + str(bwood[bwood.ReleaseTime == 'FS'].ROI.mean()))\n",
    "\n",
    "print(\"\\nTherefore a movie release on a long weekend has a more ROI than a movie released on a festive day\")"
   ]
  },
  {
   "cell_type": "markdown",
   "id": "43c24250",
   "metadata": {},
   "source": [
    "## 9)Correlation between box office and ytd likes"
   ]
  },
  {
   "cell_type": "code",
   "execution_count": 160,
   "id": "5940bdcc",
   "metadata": {},
   "outputs": [
    {
     "name": "stdout",
     "output_type": "stream",
     "text": [
      "0.6825165877731297\n",
      "A moderately strong correlationship. \n"
     ]
    }
   ],
   "source": [
    "print(bwood[\"BoxOfficeCollection\"].corr(bwood[\"YoutubeLikes\"]))\n",
    "print(\"A moderately strong correlationship. \")"
   ]
  },
  {
   "cell_type": "markdown",
   "id": "abe14f73",
   "metadata": {},
   "source": [
    "## 10) Boxplot of ytd likes of various genres of movies"
   ]
  },
  {
   "cell_type": "code",
   "execution_count": 161,
   "id": "4a3bf8e1",
   "metadata": {},
   "outputs": [
    {
     "data": {
      "image/png": "[encoded data removed]",
      "text/plain": [
       "<Figure size 432x288 with 1 Axes>"
      ]
     },
     "metadata": {
      "needs_background": "light"
     },
     "output_type": "display_data"
    }
   ],
   "source": [
    "rom = bwood[bwood.Genre == 'Romance']\n",
    "act = bwood[bwood.Genre == 'Action']\n",
    "dra = bwood[bwood.Genre == 'Drama']\n",
    "thri = bwood[bwood.Genre == 'Comedy']\n",
    "box_plot_data=[rom[\"YoutubeLikes\"],act[\"YoutubeLikes\"],dra[\"YoutubeLikes\"],thri[\"YoutubeLikes\"]]\n",
    "plt.boxplot(box_plot_data,patch_artist=True,labels=['Romance','Action','Drama','Comedy'])\n",
    "plt.show()"
   ]
  },
  {
   "cell_type": "markdown",
   "id": "c112f697",
   "metadata": {},
   "source": [
    "## 11)Highly correlated set of attributes"
   ]
  },
  {
   "cell_type": "code",
   "execution_count": 162,
   "id": "f88a2d07",
   "metadata": {},
   "outputs": [
    {
     "data": {
      "image/png": "[encoded data removed]",
      "text/plain": [
       "<Figure size 1080x216 with 4 Axes>"
      ]
     },
     "metadata": {
      "needs_background": "light"
     },
     "output_type": "display_data"
    }
   ],
   "source": [
    "fig,ax=plt.subplots(nrows=1,ncols=4,figsize=(15,3))\n",
    "\n",
    "#manipulating the first axes\n",
    "ax[0].scatter(bwood[\"BoxOfficeCollection\"], bwood[\"Budget\"])\n",
    "ax[0].set_xlabel(\"BoxOfficeCollection\")\n",
    "ax[0].set_ylabel(\"Budget\")\n",
    "\n",
    "ax[1].scatter(bwood[\"BoxOfficeCollection\"],bwood[\"YoutubeViews\"])\n",
    "ax[1].set_xlabel('BoxOfficeCollection')\n",
    "ax[1].set_ylabel(\"YoutubeViews\")\n",
    "\n",
    "ax[2].scatter(bwood[\"BoxOfficeCollection\"],bwood[\"YoutubeLikes\"])\n",
    "ax[2].set_xlabel('BoxOfficeCollection')\n",
    "ax[2].set_ylabel(\"YoutubeLikes\")\n",
    "\n",
    "ax[3].scatter(bwood[\"BoxOfficeCollection\"],bwood[\"YoutubeDislikes\"])\n",
    "ax[3].set_ylabel('YoutubeDislikes')\n",
    "ax[3].set_xlabel(\"BoxOfficeCollection\")\n",
    "\n",
    "\n",
    "\n",
    "plt.tight_layout()\n",
    "\n"
   ]
  },
  {
   "cell_type": "code",
   "execution_count": 163,
   "id": "277991b8",
   "metadata": {},
   "outputs": [
    {
     "data": {
      "image/png": "[encoded data removed]",
      "text/plain": [
       "<Figure size 1080x216 with 4 Axes>"
      ]
     },
     "metadata": {
      "needs_background": "light"
     },
     "output_type": "display_data"
    }
   ],
   "source": [
    "fig,ax=plt.subplots(nrows=1, ncols=4, figsize=(15,3))\n",
    "\n",
    "ax[0].scatter(bwood[\"Budget\"],bwood[\"YoutubeLikes\"])\n",
    "ax[0].set_xlabel('Budget')\n",
    "ax[0].set_ylabel('YoutubeLikes')\n",
    "\n",
    "ax[1].scatter(bwood[\"Budget\"],bwood[\"YoutubeViews\"])\n",
    "ax[1].set_xlabel('Budget')\n",
    "ax[1].set_ylabel(\"YoutubeViews\")\n",
    "\n",
    "ax[2].scatter(bwood[\"Budget\"],bwood[\"YoutubeDislikes\"])\n",
    "ax[2].set_xlabel('Budget')\n",
    "ax[2].set_ylabel(\"YoutubeDislikes\")\n",
    "\n",
    "ax[3].scatter(bwood[\"YoutubeViews\"],bwood[\"YoutubeLikes\"])\n",
    "ax[3].set_xlabel('YoutubeViews')\n",
    "ax[3].set_ylabel(\"YoutubeLikes\")\n",
    "\n",
    "\n",
    "plt.tight_layout()"
   ]
  },
  {
   "cell_type": "code",
   "execution_count": 167,
   "id": "20a2b748",
   "metadata": {},
   "outputs": [
    {
     "data": {
      "image/png": "[encoded data removed]",
      "text/plain": [
       "<Figure size 1080x216 with 4 Axes>"
      ]
     },
     "metadata": {
      "needs_background": "light"
     },
     "output_type": "display_data"
    }
   ],
   "source": [
    "fig, ax=plt.subplots(nrows=1,ncols=4,figsize=(15,3))\n",
    "\n",
    "ax[0].scatter(bwood[\"YoutubeViews\"],bwood[\"YoutubeDislikes\"])\n",
    "ax[0].set_xlabel('YoutubeViews')\n",
    "ax[0].set_ylabel(\"YoutubeDislikes\")\n",
    "\n",
    "ax[1].scatter(bwood[\"YoutubeLikes\"],bwood[\"YoutubeDislikes\"])\n",
    "ax[1].set_xlabel('YoutubeLikes')\n",
    "ax[1].set_ylabel(\"YoutubeDislikes\")\n",
    "\n",
    "plt.tight_layout()"
   ]
  },
  {
   "cell_type": "code",
   "execution_count": null,
   "id": "eff7414a",
   "metadata": {},
   "outputs": [],
   "source": [
    "#From the graphs, we can observe that the youtubeViews and YoutubeLikes are highly correlated, having an r value of 0."
   ]
  },
  {
   "cell_type": "markdown",
   "id": "3c65ada6",
   "metadata": {},
   "source": [
    "## 12)Genre and Box office collection "
   ]
  },
  {
   "cell_type": "code",
   "execution_count": 168,
   "id": "b7b80192",
   "metadata": {},
   "outputs": [
    {
     "data": {
      "image/png": "[encoded data removed]",
      "text/plain": [
       "<Figure size 432x288 with 1 Axes>"
      ]
     },
     "metadata": {},
     "output_type": "display_data"
    }
   ],
   "source": [
    "Thr=bwood[bwood['Genre']=='Thriller'][\"BoxOfficeCollection\"].sum()\n",
    "Rom=bwood[bwood['Genre']=='Romance'][\"BoxOfficeCollection\"].sum()\n",
    "Act=bwood[bwood['Genre']=='Action'][\"BoxOfficeCollection\"].sum()\n",
    "Dra=bwood[bwood['Genre']=='Drama'][\"BoxOfficeCollection\"].sum()\n",
    "Gen=[Thr,Rom,Act,Dra]\n",
    "my_label='Thriller','Romance','Action','Drama'\n",
    "plt.pie(Gen,labels=my_label,shadow= True, explode=(0.1,0,0,0),autopct='%1.1f%%')\n",
    "plt.axis('equal')\n",
    "plt.title(\"Box Office\")\n",
    "plt.show()"
   ]
  },
  {
   "cell_type": "markdown",
   "id": "73837514",
   "metadata": {},
   "source": [
    "## 13) Budget and Box Office relationship"
   ]
  },
  {
   "cell_type": "code",
   "execution_count": 171,
   "id": "2c5f8de6",
   "metadata": {},
   "outputs": [
    {
     "data": {
      "image/png": "[encoded data removed]",
      "text/plain": [
       "<Figure size 1080x360 with 2 Axes>"
      ]
     },
     "metadata": {
      "needs_background": "light"
     },
     "output_type": "display_data"
    }
   ],
   "source": [
    "fig,ax=plt.subplots(nrows=1, ncols=2, figsize=(15,5) )\n",
    "\n",
    "\n",
    "ax[0].scatter(bwood[bwood[\"Genre\"]=='Thriller']['Budget'], bwood[bwood[\"Genre\"]=='Thriller'][\"BoxOfficeCollection\"])\n",
    "ax[0].set_xlabel('Budget')\n",
    "ax[0].set_ylabel(\"Box Office\")\n",
    "ax[0].set_title(\"Thriller\")\n",
    "\n",
    "ax[1].scatter(bwood[bwood[\"Genre\"]=='Drama']['Budget'],bwood[bwood[\"Genre\"]=='Drama'][\"BoxOfficeCollection\"])\n",
    "ax[1].set_xlabel('Budget')\n",
    "ax[1].set_ylabel(\"Box Office\")\n",
    "ax[1].set_title(\"Drama\")\n",
    "\n",
    "plt.tight_layout()"
   ]
  },
  {
   "cell_type": "code",
   "execution_count": 172,
   "id": "1149213d",
   "metadata": {},
   "outputs": [
    {
     "data": {
      "image/png": "[encoded data removed]",
      "text/plain": [
       "<Figure size 1080x360 with 2 Axes>"
      ]
     },
     "metadata": {
      "needs_background": "light"
     },
     "output_type": "display_data"
    }
   ],
   "source": [
    "fig, ax=plt.subplots(nrows=1, ncols=2, figsize=(15,5))\n",
    "\n",
    "ax[0].scatter(bwood[bwood[\"Genre\"]=='Action']['Budget'],bwood[bwood[\"Genre\"]=='Action'][\"BoxOfficeCollection\"])\n",
    "ax[0].set_xlabel('Budget')\n",
    "ax[0].set_ylabel(\"Box Office\")\n",
    "ax[0].set_title(\"Action\")\n",
    "\n",
    "ax[1].scatter(bwood[bwood[\"Genre\"]=='Romance']['Budget'],bwood[bwood[\"Genre\"]=='Romance'][\"BoxOfficeCollection\"])\n",
    "ax[1].set_xlabel('Budget')\n",
    "ax[1].set_ylabel(\"Box Office\")\n",
    "ax[1].set_title(\"Romance\")\n",
    "\n",
    "plt.tight_layout()"
   ]
  },
  {
   "cell_type": "markdown",
   "id": "ec59a54f",
   "metadata": {},
   "source": [
    "## 14) Distribution of budget across genres "
   ]
  },
  {
   "cell_type": "code",
   "execution_count": 173,
   "id": "f63adfbd",
   "metadata": {},
   "outputs": [
    {
     "data": {
      "text/plain": [
       "Text(0, 0.5, 'Number of movies')"
      ]
     },
     "execution_count": 173,
     "metadata": {},
     "output_type": "execute_result"
    },
    {
     "data": {
      "image/png": "[encoded data removed]",
      "text/plain": [
       "<Figure size 1080x216 with 4 Axes>"
      ]
     },
     "metadata": {
      "needs_background": "light"
     },
     "output_type": "display_data"
    }
   ],
   "source": [
    "fig,ax=plt.subplots(nrows=1,ncols=4,figsize=(15,3))\n",
    "\n",
    "Thr=bwood[bwood['Genre']=='Thriller'][\"Budget\"]\n",
    "ax[0].hist(Thr,rwidth=1)\n",
    "ax[0].set_ylim(1, 16)\n",
    "ax[0].set_title(\"Thriller\")\n",
    "ax[0].set_xlabel('Budget')\n",
    "ax[0].set_ylabel('Number of movies')\n",
    "\n",
    "Rom=bwood[bwood['Genre']=='Romance'][\"Budget\"]\n",
    "ax[1].set_title(\"Romance\")\n",
    "ax[1].set_ylim(1, 16)\n",
    "ax[1].hist(Rom,rwidth=1)\n",
    "plt.ylim(1, 20)\n",
    "ax[1].set_xlabel('Budget')\n",
    "ax[1].set_ylabel('Number of movies')\n",
    "\n",
    "Thr=bwood[bwood['Genre']=='Drama'][\"Budget\"]\n",
    "ax[2].hist(Thr,rwidth=1)\n",
    "ax[2].set_ylim(1, 16) \n",
    "ax[2].set_title(\"Drama\")\n",
    "ax[2].set_xlabel('Budget')\n",
    "ax[2].set_ylabel('Number of movies')\n",
    "\n",
    "Rom=bwood[bwood['Genre']=='Action'][\"Budget\"]\n",
    "ax[3].set_title(\"Action\")\n",
    "ax[3].set_ylim(1, 16)\n",
    "ax[3].hist(Rom)\n",
    "ax[3].set_xlabel('Budget')\n",
    "ax[3].set_ylabel('Number of movies')\n"
   ]
  },
  {
   "cell_type": "markdown",
   "id": "9f067e59",
   "metadata": {},
   "source": [
    "## 15) No. of movies per year"
   ]
  },
  {
   "cell_type": "code",
   "execution_count": 174,
   "id": "64bbb85b",
   "metadata": {},
   "outputs": [
    {
     "data": {
      "text/plain": [
       "<AxesSubplot:>"
      ]
     },
     "execution_count": 174,
     "metadata": {},
     "output_type": "execute_result"
    },
    {
     "data": {
      "image/png": "[encoded data removed]",
      "text/plain": [
       "<Figure size 432x288 with 1 Axes>"
      ]
     },
     "metadata": {
      "needs_background": "light"
     },
     "output_type": "display_data"
    }
   ],
   "source": [
    "bwood['Release Date']= pd.to_datetime(bwood['Release Date'])\n",
    "df=pd.DataFrame(bwood['Release Date'].dt.year.value_counts())\n",
    "df.plot(kind='bar')"
   ]
  },
  {
   "cell_type": "code",
   "execution_count": null,
   "id": "2824463e",
   "metadata": {},
   "outputs": [],
   "source": []
  }
 ],
 "metadata": {
  "kernelspec": {
   "display_name": "Python 3",
   "language": "python",
   "name": "python3"
  },
  "language_info": {
   "codemirror_mode": {
    "name": "ipython",
    "version": 3
   },
   "file_extension": ".py",
   "mimetype": "text/x-python",
   "name": "python",
   "nbconvert_exporter": "python",
   "pygments_lexer": "ipython3",
   "version": "3.8.8"
  }
 },
 "nbformat": 4,
 "nbformat_minor": 5
}
