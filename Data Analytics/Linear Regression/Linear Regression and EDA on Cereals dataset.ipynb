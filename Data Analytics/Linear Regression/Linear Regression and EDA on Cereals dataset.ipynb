{
 "cells": [
  {
   "cell_type": "code",
   "execution_count": 12,
   "id": "77b5895e",
   "metadata": {},
   "outputs": [],
   "source": [
    "import pandas as pd\n",
    "import matplotlib.pyplot as plt\n",
    "import numpy as np\n",
    "import seaborn as sns\n",
    "from scipy import stats\n",
    "import math\n",
    "from sklearn.model_selection import KFold\n",
    "from sklearn.linear_model import LinearRegression\n",
    "from sklearn.model_selection import train_test_split\n",
    "from sklearn.metrics import mean_squared_error, r2_score, mean_absolute_error\n",
    "from sklearn import metrics\n",
    "from sklearn.metrics import classification_report\n",
    "%matplotlib inline"
   ]
  },
  {
   "cell_type": "code",
   "execution_count": 13,
   "id": "852ee4ea",
   "metadata": {},
   "outputs": [
    {
     "data": {
      "text/html": [
       "<div>\n",
       "<style scoped>\n",
       "    .dataframe tbody tr th:only-of-type {\n",
       "        vertical-align: middle;\n",
       "    }\n",
       "\n",
       "    .dataframe tbody tr th {\n",
       "        vertical-align: top;\n",
       "    }\n",
       "\n",
       "    .dataframe thead th {\n",
       "        text-align: right;\n",
       "    }\n",
       "</style>\n",
       "<table border=\"1\" class=\"dataframe\">\n",
       "  <thead>\n",
       "    <tr style=\"text-align: right;\">\n",
       "      <th></th>\n",
       "      <th>name</th>\n",
       "      <th>mfr</th>\n",
       "      <th>type</th>\n",
       "      <th>calories</th>\n",
       "      <th>protein</th>\n",
       "      <th>fat</th>\n",
       "      <th>sodium</th>\n",
       "      <th>fiber</th>\n",
       "      <th>carbo</th>\n",
       "      <th>sugars</th>\n",
       "      <th>potass</th>\n",
       "      <th>vitamins</th>\n",
       "      <th>shelf</th>\n",
       "      <th>weight</th>\n",
       "      <th>cups</th>\n",
       "      <th>rating</th>\n",
       "    </tr>\n",
       "  </thead>\n",
       "  <tbody>\n",
       "    <tr>\n",
       "      <th>0</th>\n",
       "      <td>100%_Natural_Bran</td>\n",
       "      <td>Q</td>\n",
       "      <td>C</td>\n",
       "      <td>120</td>\n",
       "      <td>3</td>\n",
       "      <td>5</td>\n",
       "      <td>15</td>\n",
       "      <td>2.0</td>\n",
       "      <td>8.0</td>\n",
       "      <td>8</td>\n",
       "      <td>135</td>\n",
       "      <td>0</td>\n",
       "      <td>3</td>\n",
       "      <td>1.0</td>\n",
       "      <td>1.00</td>\n",
       "      <td>33.983679</td>\n",
       "    </tr>\n",
       "    <tr>\n",
       "      <th>1</th>\n",
       "      <td>All-Bran</td>\n",
       "      <td>K</td>\n",
       "      <td>C</td>\n",
       "      <td>70</td>\n",
       "      <td>4</td>\n",
       "      <td>1</td>\n",
       "      <td>260</td>\n",
       "      <td>9.0</td>\n",
       "      <td>7.0</td>\n",
       "      <td>5</td>\n",
       "      <td>320</td>\n",
       "      <td>25</td>\n",
       "      <td>3</td>\n",
       "      <td>1.0</td>\n",
       "      <td>0.33</td>\n",
       "      <td>59.425505</td>\n",
       "    </tr>\n",
       "    <tr>\n",
       "      <th>2</th>\n",
       "      <td>All-Bran_with_Extra_Fiber</td>\n",
       "      <td>K</td>\n",
       "      <td>C</td>\n",
       "      <td>50</td>\n",
       "      <td>4</td>\n",
       "      <td>0</td>\n",
       "      <td>140</td>\n",
       "      <td>14.0</td>\n",
       "      <td>8.0</td>\n",
       "      <td>0</td>\n",
       "      <td>330</td>\n",
       "      <td>25</td>\n",
       "      <td>3</td>\n",
       "      <td>1.0</td>\n",
       "      <td>0.50</td>\n",
       "      <td>93.704912</td>\n",
       "    </tr>\n",
       "    <tr>\n",
       "      <th>3</th>\n",
       "      <td>Almond_Delight</td>\n",
       "      <td>R</td>\n",
       "      <td>C</td>\n",
       "      <td>110</td>\n",
       "      <td>2</td>\n",
       "      <td>2</td>\n",
       "      <td>200</td>\n",
       "      <td>1.0</td>\n",
       "      <td>14.0</td>\n",
       "      <td>8</td>\n",
       "      <td>-1</td>\n",
       "      <td>25</td>\n",
       "      <td>3</td>\n",
       "      <td>1.0</td>\n",
       "      <td>0.75</td>\n",
       "      <td>34.384843</td>\n",
       "    </tr>\n",
       "    <tr>\n",
       "      <th>4</th>\n",
       "      <td>Apple_Cinnamon_Cheerios</td>\n",
       "      <td>G</td>\n",
       "      <td>C</td>\n",
       "      <td>110</td>\n",
       "      <td>2</td>\n",
       "      <td>2</td>\n",
       "      <td>180</td>\n",
       "      <td>1.5</td>\n",
       "      <td>10.5</td>\n",
       "      <td>10</td>\n",
       "      <td>70</td>\n",
       "      <td>25</td>\n",
       "      <td>1</td>\n",
       "      <td>1.0</td>\n",
       "      <td>0.75</td>\n",
       "      <td>29.509541</td>\n",
       "    </tr>\n",
       "    <tr>\n",
       "      <th>...</th>\n",
       "      <td>...</td>\n",
       "      <td>...</td>\n",
       "      <td>...</td>\n",
       "      <td>...</td>\n",
       "      <td>...</td>\n",
       "      <td>...</td>\n",
       "      <td>...</td>\n",
       "      <td>...</td>\n",
       "      <td>...</td>\n",
       "      <td>...</td>\n",
       "      <td>...</td>\n",
       "      <td>...</td>\n",
       "      <td>...</td>\n",
       "      <td>...</td>\n",
       "      <td>...</td>\n",
       "      <td>...</td>\n",
       "    </tr>\n",
       "    <tr>\n",
       "      <th>71</th>\n",
       "      <td>Triples</td>\n",
       "      <td>G</td>\n",
       "      <td>C</td>\n",
       "      <td>110</td>\n",
       "      <td>2</td>\n",
       "      <td>1</td>\n",
       "      <td>250</td>\n",
       "      <td>0.0</td>\n",
       "      <td>21.0</td>\n",
       "      <td>3</td>\n",
       "      <td>60</td>\n",
       "      <td>25</td>\n",
       "      <td>3</td>\n",
       "      <td>1.0</td>\n",
       "      <td>0.75</td>\n",
       "      <td>39.106174</td>\n",
       "    </tr>\n",
       "    <tr>\n",
       "      <th>72</th>\n",
       "      <td>Trix</td>\n",
       "      <td>G</td>\n",
       "      <td>C</td>\n",
       "      <td>110</td>\n",
       "      <td>1</td>\n",
       "      <td>1</td>\n",
       "      <td>140</td>\n",
       "      <td>0.0</td>\n",
       "      <td>13.0</td>\n",
       "      <td>12</td>\n",
       "      <td>25</td>\n",
       "      <td>25</td>\n",
       "      <td>2</td>\n",
       "      <td>1.0</td>\n",
       "      <td>1.00</td>\n",
       "      <td>27.753301</td>\n",
       "    </tr>\n",
       "    <tr>\n",
       "      <th>73</th>\n",
       "      <td>Wheat_Chex</td>\n",
       "      <td>R</td>\n",
       "      <td>C</td>\n",
       "      <td>100</td>\n",
       "      <td>3</td>\n",
       "      <td>1</td>\n",
       "      <td>230</td>\n",
       "      <td>3.0</td>\n",
       "      <td>17.0</td>\n",
       "      <td>3</td>\n",
       "      <td>115</td>\n",
       "      <td>25</td>\n",
       "      <td>1</td>\n",
       "      <td>1.0</td>\n",
       "      <td>0.67</td>\n",
       "      <td>49.787445</td>\n",
       "    </tr>\n",
       "    <tr>\n",
       "      <th>74</th>\n",
       "      <td>Wheaties</td>\n",
       "      <td>G</td>\n",
       "      <td>C</td>\n",
       "      <td>100</td>\n",
       "      <td>3</td>\n",
       "      <td>1</td>\n",
       "      <td>200</td>\n",
       "      <td>3.0</td>\n",
       "      <td>17.0</td>\n",
       "      <td>3</td>\n",
       "      <td>110</td>\n",
       "      <td>25</td>\n",
       "      <td>1</td>\n",
       "      <td>1.0</td>\n",
       "      <td>1.00</td>\n",
       "      <td>51.592193</td>\n",
       "    </tr>\n",
       "    <tr>\n",
       "      <th>75</th>\n",
       "      <td>Wheaties_Honey_Gold</td>\n",
       "      <td>G</td>\n",
       "      <td>C</td>\n",
       "      <td>110</td>\n",
       "      <td>2</td>\n",
       "      <td>1</td>\n",
       "      <td>200</td>\n",
       "      <td>1.0</td>\n",
       "      <td>16.0</td>\n",
       "      <td>8</td>\n",
       "      <td>60</td>\n",
       "      <td>25</td>\n",
       "      <td>1</td>\n",
       "      <td>1.0</td>\n",
       "      <td>0.75</td>\n",
       "      <td>36.187559</td>\n",
       "    </tr>\n",
       "  </tbody>\n",
       "</table>\n",
       "<p>76 rows × 16 columns</p>\n",
       "</div>"
      ],
      "text/plain": [
       "                         name mfr type  calories  protein  fat  sodium  fiber  \\\n",
       "0           100%_Natural_Bran   Q    C       120        3    5      15    2.0   \n",
       "1                    All-Bran   K    C        70        4    1     260    9.0   \n",
       "2   All-Bran_with_Extra_Fiber   K    C        50        4    0     140   14.0   \n",
       "3              Almond_Delight   R    C       110        2    2     200    1.0   \n",
       "4     Apple_Cinnamon_Cheerios   G    C       110        2    2     180    1.5   \n",
       "..                        ...  ..  ...       ...      ...  ...     ...    ...   \n",
       "71                    Triples   G    C       110        2    1     250    0.0   \n",
       "72                       Trix   G    C       110        1    1     140    0.0   \n",
       "73                 Wheat_Chex   R    C       100        3    1     230    3.0   \n",
       "74                   Wheaties   G    C       100        3    1     200    3.0   \n",
       "75        Wheaties_Honey_Gold   G    C       110        2    1     200    1.0   \n",
       "\n",
       "    carbo  sugars  potass  vitamins  shelf  weight  cups     rating  \n",
       "0     8.0       8     135         0      3     1.0  1.00  33.983679  \n",
       "1     7.0       5     320        25      3     1.0  0.33  59.425505  \n",
       "2     8.0       0     330        25      3     1.0  0.50  93.704912  \n",
       "3    14.0       8      -1        25      3     1.0  0.75  34.384843  \n",
       "4    10.5      10      70        25      1     1.0  0.75  29.509541  \n",
       "..    ...     ...     ...       ...    ...     ...   ...        ...  \n",
       "71   21.0       3      60        25      3     1.0  0.75  39.106174  \n",
       "72   13.0      12      25        25      2     1.0  1.00  27.753301  \n",
       "73   17.0       3     115        25      1     1.0  0.67  49.787445  \n",
       "74   17.0       3     110        25      1     1.0  1.00  51.592193  \n",
       "75   16.0       8      60        25      1     1.0  0.75  36.187559  \n",
       "\n",
       "[76 rows x 16 columns]"
      ]
     },
     "execution_count": 13,
     "metadata": {},
     "output_type": "execute_result"
    }
   ],
   "source": [
    "cer=pd.read_excel(\"Cereals1.xls\")\n",
    "cer"
   ]
  },
  {
   "cell_type": "markdown",
   "id": "dc38847f",
   "metadata": {},
   "source": [
    "## 1) Five number summary of numeric attributes "
   ]
  },
  {
   "cell_type": "code",
   "execution_count": 14,
   "id": "c9e3c4c8",
   "metadata": {
    "scrolled": false
   },
   "outputs": [
    {
     "data": {
      "text/html": [
       "<div>\n",
       "<style scoped>\n",
       "    .dataframe tbody tr th:only-of-type {\n",
       "        vertical-align: middle;\n",
       "    }\n",
       "\n",
       "    .dataframe tbody tr th {\n",
       "        vertical-align: top;\n",
       "    }\n",
       "\n",
       "    .dataframe thead th {\n",
       "        text-align: right;\n",
       "    }\n",
       "</style>\n",
       "<table border=\"1\" class=\"dataframe\">\n",
       "  <thead>\n",
       "    <tr style=\"text-align: right;\">\n",
       "      <th></th>\n",
       "      <th>calories</th>\n",
       "      <th>protein</th>\n",
       "      <th>fat</th>\n",
       "      <th>sodium</th>\n",
       "      <th>fiber</th>\n",
       "      <th>carbo</th>\n",
       "      <th>sugars</th>\n",
       "      <th>potass</th>\n",
       "      <th>vitamins</th>\n",
       "      <th>shelf</th>\n",
       "      <th>weight</th>\n",
       "      <th>cups</th>\n",
       "      <th>rating</th>\n",
       "    </tr>\n",
       "  </thead>\n",
       "  <tbody>\n",
       "    <tr>\n",
       "      <th>min</th>\n",
       "      <td>50.0</td>\n",
       "      <td>1.0</td>\n",
       "      <td>0.0</td>\n",
       "      <td>0.0</td>\n",
       "      <td>0.00</td>\n",
       "      <td>-1.0</td>\n",
       "      <td>-1.0</td>\n",
       "      <td>-1.0</td>\n",
       "      <td>0.0</td>\n",
       "      <td>1.0</td>\n",
       "      <td>0.5</td>\n",
       "      <td>0.25</td>\n",
       "      <td>18.042851</td>\n",
       "    </tr>\n",
       "    <tr>\n",
       "      <th>25%</th>\n",
       "      <td>100.0</td>\n",
       "      <td>2.0</td>\n",
       "      <td>0.0</td>\n",
       "      <td>132.5</td>\n",
       "      <td>0.75</td>\n",
       "      <td>12.0</td>\n",
       "      <td>3.0</td>\n",
       "      <td>40.0</td>\n",
       "      <td>25.0</td>\n",
       "      <td>1.0</td>\n",
       "      <td>1.0</td>\n",
       "      <td>0.67</td>\n",
       "      <td>32.932466</td>\n",
       "    </tr>\n",
       "    <tr>\n",
       "      <th>50%</th>\n",
       "      <td>110.0</td>\n",
       "      <td>2.5</td>\n",
       "      <td>1.0</td>\n",
       "      <td>180.0</td>\n",
       "      <td>1.75</td>\n",
       "      <td>14.5</td>\n",
       "      <td>7.0</td>\n",
       "      <td>90.0</td>\n",
       "      <td>25.0</td>\n",
       "      <td>2.0</td>\n",
       "      <td>1.0</td>\n",
       "      <td>0.75</td>\n",
       "      <td>40.253086</td>\n",
       "    </tr>\n",
       "    <tr>\n",
       "      <th>75%</th>\n",
       "      <td>110.0</td>\n",
       "      <td>3.0</td>\n",
       "      <td>2.0</td>\n",
       "      <td>212.5</td>\n",
       "      <td>3.00</td>\n",
       "      <td>17.0</td>\n",
       "      <td>11.0</td>\n",
       "      <td>120.0</td>\n",
       "      <td>25.0</td>\n",
       "      <td>3.0</td>\n",
       "      <td>1.0</td>\n",
       "      <td>1.00</td>\n",
       "      <td>50.780847</td>\n",
       "    </tr>\n",
       "    <tr>\n",
       "      <th>max</th>\n",
       "      <td>160.0</td>\n",
       "      <td>6.0</td>\n",
       "      <td>5.0</td>\n",
       "      <td>320.0</td>\n",
       "      <td>14.00</td>\n",
       "      <td>23.0</td>\n",
       "      <td>15.0</td>\n",
       "      <td>330.0</td>\n",
       "      <td>100.0</td>\n",
       "      <td>3.0</td>\n",
       "      <td>1.5</td>\n",
       "      <td>1.50</td>\n",
       "      <td>93.704912</td>\n",
       "    </tr>\n",
       "  </tbody>\n",
       "</table>\n",
       "</div>"
      ],
      "text/plain": [
       "     calories  protein  fat  sodium  fiber  carbo  sugars  potass  vitamins  \\\n",
       "min      50.0      1.0  0.0     0.0   0.00   -1.0    -1.0    -1.0       0.0   \n",
       "25%     100.0      2.0  0.0   132.5   0.75   12.0     3.0    40.0      25.0   \n",
       "50%     110.0      2.5  1.0   180.0   1.75   14.5     7.0    90.0      25.0   \n",
       "75%     110.0      3.0  2.0   212.5   3.00   17.0    11.0   120.0      25.0   \n",
       "max     160.0      6.0  5.0   320.0  14.00   23.0    15.0   330.0     100.0   \n",
       "\n",
       "     shelf  weight  cups     rating  \n",
       "min    1.0     0.5  0.25  18.042851  \n",
       "25%    1.0     1.0  0.67  32.932466  \n",
       "50%    2.0     1.0  0.75  40.253086  \n",
       "75%    3.0     1.0  1.00  50.780847  \n",
       "max    3.0     1.5  1.50  93.704912  "
      ]
     },
     "execution_count": 14,
     "metadata": {},
     "output_type": "execute_result"
    }
   ],
   "source": [
    "df=cer.describe()\n",
    "\n",
    "df[3:8]"
   ]
  },
  {
   "cell_type": "markdown",
   "id": "70551a1a",
   "metadata": {},
   "source": [
    "## 2,3) Treatment of missing values "
   ]
  },
  {
   "cell_type": "code",
   "execution_count": 15,
   "id": "d16c7105",
   "metadata": {
    "scrolled": true
   },
   "outputs": [
    {
     "data": {
      "text/html": [
       "<div>\n",
       "<style scoped>\n",
       "    .dataframe tbody tr th:only-of-type {\n",
       "        vertical-align: middle;\n",
       "    }\n",
       "\n",
       "    .dataframe tbody tr th {\n",
       "        vertical-align: top;\n",
       "    }\n",
       "\n",
       "    .dataframe thead th {\n",
       "        text-align: right;\n",
       "    }\n",
       "</style>\n",
       "<table border=\"1\" class=\"dataframe\">\n",
       "  <thead>\n",
       "    <tr style=\"text-align: right;\">\n",
       "      <th></th>\n",
       "      <th>calories</th>\n",
       "      <th>protein</th>\n",
       "      <th>fat</th>\n",
       "      <th>sodium</th>\n",
       "      <th>fiber</th>\n",
       "      <th>carbo</th>\n",
       "      <th>sugars</th>\n",
       "      <th>potass</th>\n",
       "      <th>vitamins</th>\n",
       "      <th>shelf</th>\n",
       "      <th>weight</th>\n",
       "      <th>cups</th>\n",
       "      <th>rating</th>\n",
       "    </tr>\n",
       "  </thead>\n",
       "  <tbody>\n",
       "    <tr>\n",
       "      <th>min</th>\n",
       "      <td>50.0</td>\n",
       "      <td>1.0</td>\n",
       "      <td>0.0</td>\n",
       "      <td>0.0</td>\n",
       "      <td>0.00</td>\n",
       "      <td>7.000000</td>\n",
       "      <td>0.0</td>\n",
       "      <td>15.00</td>\n",
       "      <td>0.0</td>\n",
       "      <td>1.0</td>\n",
       "      <td>0.5</td>\n",
       "      <td>0.25</td>\n",
       "      <td>18.042851</td>\n",
       "    </tr>\n",
       "    <tr>\n",
       "      <th>25%</th>\n",
       "      <td>100.0</td>\n",
       "      <td>2.0</td>\n",
       "      <td>0.0</td>\n",
       "      <td>132.5</td>\n",
       "      <td>0.75</td>\n",
       "      <td>12.000000</td>\n",
       "      <td>3.0</td>\n",
       "      <td>43.75</td>\n",
       "      <td>25.0</td>\n",
       "      <td>1.0</td>\n",
       "      <td>1.0</td>\n",
       "      <td>0.67</td>\n",
       "      <td>32.932466</td>\n",
       "    </tr>\n",
       "    <tr>\n",
       "      <th>50%</th>\n",
       "      <td>110.0</td>\n",
       "      <td>2.5</td>\n",
       "      <td>1.0</td>\n",
       "      <td>180.0</td>\n",
       "      <td>1.75</td>\n",
       "      <td>14.861842</td>\n",
       "      <td>7.0</td>\n",
       "      <td>90.00</td>\n",
       "      <td>25.0</td>\n",
       "      <td>2.0</td>\n",
       "      <td>1.0</td>\n",
       "      <td>0.75</td>\n",
       "      <td>40.253086</td>\n",
       "    </tr>\n",
       "    <tr>\n",
       "      <th>75%</th>\n",
       "      <td>110.0</td>\n",
       "      <td>3.0</td>\n",
       "      <td>2.0</td>\n",
       "      <td>212.5</td>\n",
       "      <td>3.00</td>\n",
       "      <td>17.000000</td>\n",
       "      <td>11.0</td>\n",
       "      <td>120.00</td>\n",
       "      <td>25.0</td>\n",
       "      <td>3.0</td>\n",
       "      <td>1.0</td>\n",
       "      <td>1.00</td>\n",
       "      <td>50.780847</td>\n",
       "    </tr>\n",
       "    <tr>\n",
       "      <th>max</th>\n",
       "      <td>160.0</td>\n",
       "      <td>6.0</td>\n",
       "      <td>5.0</td>\n",
       "      <td>320.0</td>\n",
       "      <td>14.00</td>\n",
       "      <td>23.000000</td>\n",
       "      <td>15.0</td>\n",
       "      <td>330.00</td>\n",
       "      <td>100.0</td>\n",
       "      <td>3.0</td>\n",
       "      <td>1.5</td>\n",
       "      <td>1.50</td>\n",
       "      <td>93.704912</td>\n",
       "    </tr>\n",
       "  </tbody>\n",
       "</table>\n",
       "</div>"
      ],
      "text/plain": [
       "     calories  protein  fat  sodium  fiber      carbo  sugars  potass  \\\n",
       "min      50.0      1.0  0.0     0.0   0.00   7.000000     0.0   15.00   \n",
       "25%     100.0      2.0  0.0   132.5   0.75  12.000000     3.0   43.75   \n",
       "50%     110.0      2.5  1.0   180.0   1.75  14.861842     7.0   90.00   \n",
       "75%     110.0      3.0  2.0   212.5   3.00  17.000000    11.0  120.00   \n",
       "max     160.0      6.0  5.0   320.0  14.00  23.000000    15.0  330.00   \n",
       "\n",
       "     vitamins  shelf  weight  cups     rating  \n",
       "min       0.0    1.0     0.5  0.25  18.042851  \n",
       "25%      25.0    1.0     1.0  0.67  32.932466  \n",
       "50%      25.0    2.0     1.0  0.75  40.253086  \n",
       "75%      25.0    3.0     1.0  1.00  50.780847  \n",
       "max     100.0    3.0     1.5  1.50  93.704912  "
      ]
     },
     "execution_count": 15,
     "metadata": {},
     "output_type": "execute_result"
    }
   ],
   "source": [
    "mean =cer[\"potass\"].mean()\n",
    "table=cer[\"potass\"].replace(to_replace=-1,value=mean,inplace=True)\n",
    "\n",
    "mean =cer[\"carbo\"].mean()\n",
    "table=cer[\"carbo\"].replace(to_replace=-1,value=mean,inplace=True)\n",
    "\n",
    "mean =cer[\"sugars\"].mean()\n",
    "table=cer[\"sugars\"].replace(to_replace=-1,value=mean,inplace=True)\n",
    "\n",
    "df=cer.describe()\n",
    "\n",
    "df[3:8]"
   ]
  },
  {
   "cell_type": "markdown",
   "id": "3305e847",
   "metadata": {},
   "source": [
    "Yes, i think it was pretty effective.\n",
    "* We can observe some minor variation in the min, max and quartile values after the missing values were replaced"
   ]
  },
  {
   "cell_type": "markdown",
   "id": "9f927323",
   "metadata": {},
   "source": [
    "## 4, 5) Treatment of noisy data "
   ]
  },
  {
   "cell_type": "code",
   "execution_count": 8,
   "id": "c9b0ece4",
   "metadata": {
    "scrolled": false
   },
   "outputs": [],
   "source": [
    "\n",
    "\n",
    "# Function to Detection Outlier on one-dimentional datasets.\n",
    "def find_anomalies(ar,l):\n",
    "    #define a list to accumlate anomalies\n",
    "    anomalies = []\n",
    "    \n",
    "    median = cer[l].median()\n",
    "    # Set upper and lower limit to 3 standard deviation\n",
    "    random_data_std = ar.std()\n",
    "    random_data_mean = ar.mean()\n",
    "    cut_off = random_data_std * 2\n",
    "    \n",
    "    #Calculate the range\n",
    "    lower_limit  = random_data_mean - cut_off \n",
    "    upper_limit = random_data_mean + cut_off\n",
    "    \n",
    "    #replace outliers\n",
    "    for outlier in ar:\n",
    "        if outlier > upper_limit or outlier < lower_limit:\n",
    "            table=cer[l].replace(to_replace=outlier,value=median,inplace=True)\n",
    "    return anomalies\n",
    "\n",
    "#Preparation of list of numeric attributes\n",
    "list=cer.select_dtypes(include=np.number).columns.tolist()\n",
    "\n",
    "#Function call to pass all the numeric attributes\n",
    "for l in list:\n",
    "    find_anomalies(np.array(cer[l]),l)"
   ]
  },
  {
   "cell_type": "code",
   "execution_count": 9,
   "id": "ae74276d",
   "metadata": {
    "scrolled": false
   },
   "outputs": [
    {
     "data": {
      "text/html": [
       "<div>\n",
       "<style scoped>\n",
       "    .dataframe tbody tr th:only-of-type {\n",
       "        vertical-align: middle;\n",
       "    }\n",
       "\n",
       "    .dataframe tbody tr th {\n",
       "        vertical-align: top;\n",
       "    }\n",
       "\n",
       "    .dataframe thead th {\n",
       "        text-align: right;\n",
       "    }\n",
       "</style>\n",
       "<table border=\"1\" class=\"dataframe\">\n",
       "  <thead>\n",
       "    <tr style=\"text-align: right;\">\n",
       "      <th></th>\n",
       "      <th>calories</th>\n",
       "      <th>protein</th>\n",
       "      <th>fat</th>\n",
       "      <th>sodium</th>\n",
       "      <th>fiber</th>\n",
       "      <th>carbo</th>\n",
       "      <th>sugars</th>\n",
       "      <th>potass</th>\n",
       "      <th>vitamins</th>\n",
       "      <th>shelf</th>\n",
       "      <th>weight</th>\n",
       "      <th>cups</th>\n",
       "      <th>rating</th>\n",
       "    </tr>\n",
       "  </thead>\n",
       "  <tbody>\n",
       "    <tr>\n",
       "      <th>min</th>\n",
       "      <td>70.0</td>\n",
       "      <td>1.00</td>\n",
       "      <td>0.00</td>\n",
       "      <td>0.0</td>\n",
       "      <td>0.000</td>\n",
       "      <td>8.000000</td>\n",
       "      <td>0.0</td>\n",
       "      <td>15.00</td>\n",
       "      <td>0.0</td>\n",
       "      <td>1.0</td>\n",
       "      <td>0.83</td>\n",
       "      <td>0.50</td>\n",
       "      <td>18.042851</td>\n",
       "    </tr>\n",
       "    <tr>\n",
       "      <th>25%</th>\n",
       "      <td>100.0</td>\n",
       "      <td>2.00</td>\n",
       "      <td>0.00</td>\n",
       "      <td>132.5</td>\n",
       "      <td>0.750</td>\n",
       "      <td>12.000000</td>\n",
       "      <td>3.0</td>\n",
       "      <td>43.75</td>\n",
       "      <td>25.0</td>\n",
       "      <td>1.0</td>\n",
       "      <td>1.00</td>\n",
       "      <td>0.67</td>\n",
       "      <td>32.932466</td>\n",
       "    </tr>\n",
       "    <tr>\n",
       "      <th>50%</th>\n",
       "      <td>110.0</td>\n",
       "      <td>2.25</td>\n",
       "      <td>1.00</td>\n",
       "      <td>180.0</td>\n",
       "      <td>1.625</td>\n",
       "      <td>14.861842</td>\n",
       "      <td>7.0</td>\n",
       "      <td>90.00</td>\n",
       "      <td>25.0</td>\n",
       "      <td>2.0</td>\n",
       "      <td>1.00</td>\n",
       "      <td>0.75</td>\n",
       "      <td>40.179526</td>\n",
       "    </tr>\n",
       "    <tr>\n",
       "      <th>75%</th>\n",
       "      <td>110.0</td>\n",
       "      <td>3.00</td>\n",
       "      <td>1.25</td>\n",
       "      <td>212.5</td>\n",
       "      <td>3.000</td>\n",
       "      <td>17.000000</td>\n",
       "      <td>11.0</td>\n",
       "      <td>110.00</td>\n",
       "      <td>25.0</td>\n",
       "      <td>3.0</td>\n",
       "      <td>1.00</td>\n",
       "      <td>1.00</td>\n",
       "      <td>49.218158</td>\n",
       "    </tr>\n",
       "    <tr>\n",
       "      <th>max</th>\n",
       "      <td>140.0</td>\n",
       "      <td>4.00</td>\n",
       "      <td>3.00</td>\n",
       "      <td>320.0</td>\n",
       "      <td>6.000</td>\n",
       "      <td>22.000000</td>\n",
       "      <td>15.0</td>\n",
       "      <td>200.00</td>\n",
       "      <td>25.0</td>\n",
       "      <td>3.0</td>\n",
       "      <td>1.33</td>\n",
       "      <td>1.25</td>\n",
       "      <td>68.235885</td>\n",
       "    </tr>\n",
       "  </tbody>\n",
       "</table>\n",
       "</div>"
      ],
      "text/plain": [
       "     calories  protein   fat  sodium  fiber      carbo  sugars  potass  \\\n",
       "min      70.0     1.00  0.00     0.0  0.000   8.000000     0.0   15.00   \n",
       "25%     100.0     2.00  0.00   132.5  0.750  12.000000     3.0   43.75   \n",
       "50%     110.0     2.25  1.00   180.0  1.625  14.861842     7.0   90.00   \n",
       "75%     110.0     3.00  1.25   212.5  3.000  17.000000    11.0  110.00   \n",
       "max     140.0     4.00  3.00   320.0  6.000  22.000000    15.0  200.00   \n",
       "\n",
       "     vitamins  shelf  weight  cups     rating  \n",
       "min       0.0    1.0    0.83  0.50  18.042851  \n",
       "25%      25.0    1.0    1.00  0.67  32.932466  \n",
       "50%      25.0    2.0    1.00  0.75  40.179526  \n",
       "75%      25.0    3.0    1.00  1.00  49.218158  \n",
       "max      25.0    3.0    1.33  1.25  68.235885  "
      ]
     },
     "execution_count": 9,
     "metadata": {},
     "output_type": "execute_result"
    }
   ],
   "source": [
    "df=cer.describe()\n",
    "df[3:8]"
   ]
  },
  {
   "cell_type": "markdown",
   "id": "bf9e79e2",
   "metadata": {},
   "source": [
    "Yes I feel the strategy has been pretty effective. From comparing the descriptions of the data set after treating the missing values and after treating the noisy values, we can see some differences. \n",
    "\n",
    "* The min and max has come closer after removing the outliers, ie that dataset has become more compacted. \n",
    "* We can observe some minor variations in the quartile values in some cases and major in other cases. \n",
    "\n",
    "Overall, we could obtain some difference after treating the noisy data and the strategy that we used was pretty effective. Now the data is effectively pre-processed."
   ]
  },
  {
   "cell_type": "markdown",
   "id": "4d975bb4",
   "metadata": {},
   "source": [
    "## 6)Crosstab of cereal v/s manufacturer "
   ]
  },
  {
   "cell_type": "code",
   "execution_count": 10,
   "id": "fa35070c",
   "metadata": {
    "scrolled": true
   },
   "outputs": [
    {
     "data": {
      "text/html": [
       "<div>\n",
       "<style scoped>\n",
       "    .dataframe tbody tr th:only-of-type {\n",
       "        vertical-align: middle;\n",
       "    }\n",
       "\n",
       "    .dataframe tbody tr th {\n",
       "        vertical-align: top;\n",
       "    }\n",
       "\n",
       "    .dataframe thead th {\n",
       "        text-align: right;\n",
       "    }\n",
       "</style>\n",
       "<table border=\"1\" class=\"dataframe\">\n",
       "  <thead>\n",
       "    <tr style=\"text-align: right;\">\n",
       "      <th>mfr</th>\n",
       "      <th>A</th>\n",
       "      <th>G</th>\n",
       "      <th>K</th>\n",
       "      <th>N</th>\n",
       "      <th>P</th>\n",
       "      <th>Q</th>\n",
       "      <th>R</th>\n",
       "    </tr>\n",
       "    <tr>\n",
       "      <th>type</th>\n",
       "      <th></th>\n",
       "      <th></th>\n",
       "      <th></th>\n",
       "      <th></th>\n",
       "      <th></th>\n",
       "      <th></th>\n",
       "      <th></th>\n",
       "    </tr>\n",
       "  </thead>\n",
       "  <tbody>\n",
       "    <tr>\n",
       "      <th>C</th>\n",
       "      <td>0</td>\n",
       "      <td>22</td>\n",
       "      <td>23</td>\n",
       "      <td>4</td>\n",
       "      <td>9</td>\n",
       "      <td>7</td>\n",
       "      <td>8</td>\n",
       "    </tr>\n",
       "    <tr>\n",
       "      <th>H</th>\n",
       "      <td>1</td>\n",
       "      <td>0</td>\n",
       "      <td>0</td>\n",
       "      <td>1</td>\n",
       "      <td>0</td>\n",
       "      <td>1</td>\n",
       "      <td>0</td>\n",
       "    </tr>\n",
       "  </tbody>\n",
       "</table>\n",
       "</div>"
      ],
      "text/plain": [
       "mfr   A   G   K  N  P  Q  R\n",
       "type                       \n",
       "C     0  22  23  4  9  7  8\n",
       "H     1   0   0  1  0  1  0"
      ]
     },
     "execution_count": 10,
     "metadata": {},
     "output_type": "execute_result"
    }
   ],
   "source": [
    "pd.crosstab(cer[\"type\"],cer[\"mfr\"])"
   ]
  },
  {
   "cell_type": "markdown",
   "id": "68a3ee7d",
   "metadata": {},
   "source": [
    "## 7) Cereal with best and worst rating "
   ]
  },
  {
   "cell_type": "code",
   "execution_count": 11,
   "id": "c04a54db",
   "metadata": {},
   "outputs": [
    {
     "name": "stdout",
     "output_type": "stream",
     "text": [
      "62    Cereal with best rating is Shredded_Wheat\n",
      "Name: name, dtype: object\n",
      "9    Cereal with worst rating is Cap'n'Crunch\n",
      "Name: name, dtype: object\n"
     ]
    }
   ],
   "source": [
    "max=cer[\"rating\"].max()\n",
    "print(\"Cereal with best rating is \" + (cer.loc[cer['rating'] == max][\"name\"]))\n",
    "\n",
    "min=cer[\"rating\"].min()\n",
    "print(\"Cereal with worst rating is \" + cer.loc[cer[\"rating\"]==min][\"name\"])\n"
   ]
  },
  {
   "cell_type": "markdown",
   "id": "01d0dd2c",
   "metadata": {},
   "source": [
    "## 8) Boxplot of item types"
   ]
  },
  {
   "cell_type": "code",
   "execution_count": 164,
   "id": "212fa308",
   "metadata": {},
   "outputs": [
    {
     "data": {
      "text/plain": [
       "<function matplotlib.pyplot.show(close=None, block=None)>"
      ]
     },
     "execution_count": 164,
     "metadata": {},
     "output_type": "execute_result"
    },
    {
     "data": {
      "image/png": "[encoded data removed]",
      "text/plain": [
       "<Figure size 432x288 with 1 Axes>"
      ]
     },
     "metadata": {
      "needs_background": "light"
     },
     "output_type": "display_data"
    }
   ],
   "source": [
    "sns.boxplot(x=cer[\"type\"],y=cer[\"rating\"])\n",
    "plt.title(\"Rating V/s Food Type\")\n",
    "plt.show"
   ]
  },
  {
   "cell_type": "markdown",
   "id": "07a457e5",
   "metadata": {},
   "source": [
    "## 9) Relation between sugars, calories, fat and carbs "
   ]
  },
  {
   "cell_type": "code",
   "execution_count": 12,
   "id": "e40fd1f1",
   "metadata": {},
   "outputs": [
    {
     "data": {
      "image/png": "[encoded data removed]",
      "text/plain": [
       "<Figure size 720x720 with 20 Axes>"
      ]
     },
     "metadata": {
      "needs_background": "light"
     },
     "output_type": "display_data"
    }
   ],
   "source": [
    "correlation=cer[[\"calories\",\"fat\",\"sugars\",\"carbo\"]]\n",
    "sns.pairplot(correlation)\n",
    "plt.show()"
   ]
  },
  {
   "cell_type": "markdown",
   "id": "4e9b0020",
   "metadata": {},
   "source": [
    "From, the graph we can make a few inferences\n",
    "\n",
    "* calories tend to increase with increase in sugar(0.57).\n",
    "* calories tend to increase with increase in fat(0.5)."
   ]
  },
  {
   "cell_type": "markdown",
   "id": "1334deaf",
   "metadata": {},
   "source": [
    "## 10) Manufacturer with highest calorie produce "
   ]
  },
  {
   "cell_type": "code",
   "execution_count": 174,
   "id": "35646870",
   "metadata": {},
   "outputs": [
    {
     "name": "stdout",
     "output_type": "stream",
     "text": [
      "45    The manufactorer with highest cal produce is K\n",
      "Name: mfr, dtype: object\n"
     ]
    }
   ],
   "source": [
    "max=cer[\"calories\"].max()\n",
    "print(\"The manufactorer with highest cal produce is \" + cer.loc[cer[\"calories\"]==max][\"mfr\"])"
   ]
  },
  {
   "cell_type": "markdown",
   "id": "dc306501",
   "metadata": {},
   "source": [
    "## 11) Assciation between calories and consumer rating "
   ]
  },
  {
   "cell_type": "code",
   "execution_count": 16,
   "id": "12ac8cd3",
   "metadata": {
    "scrolled": true
   },
   "outputs": [
    {
     "data": {
      "text/plain": [
       "-0.6743360496799726"
      ]
     },
     "execution_count": 16,
     "metadata": {},
     "output_type": "execute_result"
    }
   ],
   "source": [
    "cer[\"rating\"].corr(cer[\"calories\"])"
   ]
  },
  {
   "cell_type": "markdown",
   "id": "0579c6ba",
   "metadata": {},
   "source": [
    "Moderately strong negative correlation, as calories increase, rating tends to decrease."
   ]
  },
  {
   "cell_type": "code",
   "execution_count": 20,
   "id": "35e0d6df",
   "metadata": {},
   "outputs": [
    {
     "data": {
      "text/plain": [
       "<AxesSubplot:xlabel='calories', ylabel='rating'>"
      ]
     },
     "execution_count": 20,
     "metadata": {},
     "output_type": "execute_result"
    },
    {
     "data": {
      "image/png": "[encoded data removed]",
      "text/plain": [
       "<Figure size 432x288 with 1 Axes>"
      ]
     },
     "metadata": {
      "needs_background": "light"
     },
     "output_type": "display_data"
    }
   ],
   "source": [
    "sns.scatterplot(x=cer[\"calories\"], y=cer[\"rating\"])"
   ]
  },
  {
   "cell_type": "markdown",
   "id": "0efa8072",
   "metadata": {},
   "source": [
    "from the graph, we can infer that as the as the no of calories of food increases, the rating decreases. A moderately strong negative correlation."
   ]
  },
  {
   "cell_type": "markdown",
   "id": "8530d211",
   "metadata": {},
   "source": [
    "## 12) Association between ratings and shelf level "
   ]
  },
  {
   "cell_type": "code",
   "execution_count": 13,
   "id": "64453a2f",
   "metadata": {
    "scrolled": true
   },
   "outputs": [
    {
     "data": {
      "text/plain": [
       "0.001973020750965257"
      ]
     },
     "execution_count": 13,
     "metadata": {},
     "output_type": "execute_result"
    }
   ],
   "source": [
    "cer[\"rating\"].corr(cer[\"shelf\"])"
   ]
  },
  {
   "cell_type": "code",
   "execution_count": 15,
   "id": "ff52de2a",
   "metadata": {
    "scrolled": true
   },
   "outputs": [
    {
     "data": {
      "text/plain": [
       "<AxesSubplot:xlabel='shelf', ylabel='rating'>"
      ]
     },
     "execution_count": 15,
     "metadata": {},
     "output_type": "execute_result"
    },
    {
     "data": {
      "image/png": "[encoded data removed]",
      "text/plain": [
       "<Figure size 432x288 with 1 Axes>"
      ]
     },
     "metadata": {
      "needs_background": "light"
     },
     "output_type": "display_data"
    }
   ],
   "source": [
    "sns.boxplot(y=cer[\"rating\"],x=cer[\"shelf\"])"
   ]
  },
  {
   "cell_type": "markdown",
   "id": "bcadf630",
   "metadata": {},
   "source": [
    "we can see that the cereals kept at the 1st and the 3rd shelfs have a better rating compared to the 2nd shelf"
   ]
  },
  {
   "cell_type": "markdown",
   "id": "0c41d5ce",
   "metadata": {},
   "source": [
    "## 13) Relation between manufacturer  and rating"
   ]
  },
  {
   "cell_type": "code",
   "execution_count": 11,
   "id": "9118c6f5",
   "metadata": {},
   "outputs": [
    {
     "data": {
      "text/plain": [
       "<AxesSubplot:xlabel='mfr', ylabel='rating'>"
      ]
     },
     "execution_count": 11,
     "metadata": {},
     "output_type": "execute_result"
    },
    {
     "data": {
      "image/png": "[encoded data removed]",
      "text/plain": [
       "<Figure size 432x288 with 1 Axes>"
      ]
     },
     "metadata": {
      "needs_background": "light"
     },
     "output_type": "display_data"
    }
   ],
   "source": [
    "sns.boxplot(x=cer[\"mfr\"],y=cer[\"rating\"])"
   ]
  },
  {
   "cell_type": "markdown",
   "id": "46602cce",
   "metadata": {},
   "source": [
    "From the graph we can infer that, The manufactorer 'N' has the highest rating, and manufactorer 'G' has the lowest ratings."
   ]
  },
  {
   "cell_type": "markdown",
   "id": "2630e493",
   "metadata": {},
   "source": [
    "## 14) Nutrients Essential for good rating "
   ]
  },
  {
   "cell_type": "code",
   "execution_count": 44,
   "id": "5452c3f5",
   "metadata": {},
   "outputs": [
    {
     "data": {
      "text/plain": [
       "<AxesSubplot:>"
      ]
     },
     "execution_count": 44,
     "metadata": {},
     "output_type": "execute_result"
    },
    {
     "data": {
      "image/png": "[encoded data removed]",
      "text/plain": [
       "<Figure size 432x288 with 1 Axes>"
      ]
     },
     "metadata": {
      "needs_background": "light"
     },
     "output_type": "display_data"
    }
   ],
   "source": [
    "list=['calories','protein','fat','sodium','fiber','carbo','sugars','potass','vitamins']\n",
    "corrlist=[]\n",
    "\n",
    "for l in list:\n",
    "    corrlist.append(cer[l].corr(cer[\"rating\"]))\n",
    "\n",
    "sns.barplot(x=list, y=corrlist)\n",
    "    \n",
    "    "
   ]
  },
  {
   "cell_type": "markdown",
   "id": "9059a7f9",
   "metadata": {},
   "source": [
    "From the graph, we can infer that ratings of the cereal have,\n",
    "* a strong -ve correlation :- calories and sugars. \n",
    "* That is as the sugar and calorie value increases in the cereal, the rating tends to decrease.\n",
    "\n",
    "* a moderately +ve correlation :- protein and fiber \n",
    "* That is as the protein and fiber value increases in the cereal, the rating tends to increase."
   ]
  },
  {
   "cell_type": "markdown",
   "id": "63d32a66",
   "metadata": {},
   "source": [
    "## 15) Linear regression model "
   ]
  },
  {
   "cell_type": "markdown",
   "id": "601cb007",
   "metadata": {},
   "source": [
    "From the previous question, we can infer that the nutrients that most influence the ratings are, calories, fiber and sugars."
   ]
  },
  {
   "cell_type": "markdown",
   "id": "57cba0bb",
   "metadata": {},
   "source": [
    "### Prediction "
   ]
  },
  {
   "cell_type": "code",
   "execution_count": 7,
   "id": "43e51c29",
   "metadata": {
    "scrolled": false
   },
   "outputs": [
    {
     "data": {
      "text/html": [
       "<div>\n",
       "<style scoped>\n",
       "    .dataframe tbody tr th:only-of-type {\n",
       "        vertical-align: middle;\n",
       "    }\n",
       "\n",
       "    .dataframe tbody tr th {\n",
       "        vertical-align: top;\n",
       "    }\n",
       "\n",
       "    .dataframe thead th {\n",
       "        text-align: right;\n",
       "    }\n",
       "</style>\n",
       "<table border=\"1\" class=\"dataframe\">\n",
       "  <thead>\n",
       "    <tr style=\"text-align: right;\">\n",
       "      <th></th>\n",
       "      <th>Coefficient</th>\n",
       "    </tr>\n",
       "  </thead>\n",
       "  <tbody>\n",
       "    <tr>\n",
       "      <th>calories</th>\n",
       "      <td>-0.179364</td>\n",
       "    </tr>\n",
       "    <tr>\n",
       "      <th>fiber</th>\n",
       "      <td>2.584778</td>\n",
       "    </tr>\n",
       "    <tr>\n",
       "      <th>sugars</th>\n",
       "      <td>-1.868813</td>\n",
       "    </tr>\n",
       "  </tbody>\n",
       "</table>\n",
       "</div>"
      ],
      "text/plain": [
       "          Coefficient\n",
       "calories    -0.179364\n",
       "fiber        2.584778\n",
       "sugars      -1.868813"
      ]
     },
     "execution_count": 7,
     "metadata": {},
     "output_type": "execute_result"
    }
   ],
   "source": [
    "X =cer[['calories','fiber','sugars']]\n",
    "Y=cer['rating']\n",
    "\n",
    "#Split that data into test and training sets(80-20)\n",
    "X_train, X_test, Y_train, Y_test = train_test_split(X,Y, test_size=0.2,random_state=101)\n",
    "\n",
    "lm = LinearRegression() # Creating an Instance of LinearRegression model\n",
    "lm.fit(X_train,Y_train) # Train/fit on the training data\n",
    "\n",
    "#Creating dataframe with the coefficients.\n",
    "co=pd.DataFrame(lm.coef_,X.columns)\n",
    "co.columns = ['Coefficient']\n",
    "co"
   ]
  },
  {
   "cell_type": "markdown",
   "id": "dbdeb9e7",
   "metadata": {},
   "source": [
    "Interpreting the coefficients:\n",
    "Holding all other features fixed, we predict that\n",
    "* a one unit increase in calories is associated with an decrease of 0.18 rating.\n",
    "* a one unit increase in fiber is associated with an increase of 2.54 rating.\n",
    "* a one unit increase in sugars is associated with an decrease of 1.86 rating.\n"
   ]
  },
  {
   "cell_type": "markdown",
   "id": "2e936618",
   "metadata": {},
   "source": [
    "### Testing Accuracy "
   ]
  },
  {
   "cell_type": "code",
   "execution_count": 10,
   "id": "bec8cd75",
   "metadata": {},
   "outputs": [
    {
     "data": {
      "text/html": [
       "<div>\n",
       "<style scoped>\n",
       "    .dataframe tbody tr th:only-of-type {\n",
       "        vertical-align: middle;\n",
       "    }\n",
       "\n",
       "    .dataframe tbody tr th {\n",
       "        vertical-align: top;\n",
       "    }\n",
       "\n",
       "    .dataframe thead th {\n",
       "        text-align: right;\n",
       "    }\n",
       "</style>\n",
       "<table border=\"1\" class=\"dataframe\">\n",
       "  <thead>\n",
       "    <tr style=\"text-align: right;\">\n",
       "      <th></th>\n",
       "      <th>Values</th>\n",
       "    </tr>\n",
       "  </thead>\n",
       "  <tbody>\n",
       "    <tr>\n",
       "      <th>MAE</th>\n",
       "      <td>4.035271</td>\n",
       "    </tr>\n",
       "    <tr>\n",
       "      <th>MSE</th>\n",
       "      <td>28.154892</td>\n",
       "    </tr>\n",
       "    <tr>\n",
       "      <th>RMSE</th>\n",
       "      <td>5.306118</td>\n",
       "    </tr>\n",
       "    <tr>\n",
       "      <th>R_SQ</th>\n",
       "      <td>0.895384</td>\n",
       "    </tr>\n",
       "  </tbody>\n",
       "</table>\n",
       "</div>"
      ],
      "text/plain": [
       "         Values\n",
       "MAE    4.035271\n",
       "MSE   28.154892\n",
       "RMSE   5.306118\n",
       "R_SQ   0.895384"
      ]
     },
     "execution_count": 10,
     "metadata": {},
     "output_type": "execute_result"
    }
   ],
   "source": [
    "prediction = lm.predict(X_test)\n",
    "\n",
    "MAE= metrics.mean_absolute_error(Y_test,prediction) \n",
    "MSE= metrics.mean_squared_error(Y_test,prediction)\n",
    "RMSE= np.sqrt(metrics.mean_squared_error(Y_test, prediction))\n",
    "R_SQ = metrics.r2_score(Y_test, prediction)\n",
    "\n",
    "list=[MAE,MSE,RMSE,R_SQ]\n",
    "labels=['MAE','MSE','RMSE','R_SQ']\n",
    "l=pd.DataFrame(list,labels)\n",
    "l.columns=['Values']\n",
    "l\n"
   ]
  },
  {
   "cell_type": "markdown",
   "id": "d0a90ff3",
   "metadata": {},
   "source": [
    "* Residual is the difference between the actual and predicted values.\n",
    "* (MAE) Mean absolute error:- measures the average of residuals.\n",
    "* (MSE) Mean Squared error :- measures the variance of residuals.\n",
    "* (RMSE) Root mean squared error :- measures the standard deviation of the residuals\n",
    "* (R_SQ) R-Squared :- Tells us about the proportion of residuals on the regression line\n",
    "\n",
    "A generally high value od R_SQ and low value of RMSE is required for the model to be accurate, here it is\n",
    "* R_SQ :- 0.895384(almost near 0.9, strong)\n",
    "* RMSE :-\t5.306118\n",
    "\n",
    "Therefore we can conclude that the model is pretty accurate\n"
   ]
  },
  {
   "cell_type": "code",
   "execution_count": null,
   "id": "2b604ea8",
   "metadata": {},
   "outputs": [],
   "source": []
  }
 ],
 "metadata": {
  "kernelspec": {
   "display_name": "Python 3",
   "language": "python",
   "name": "python3"
  },
  "language_info": {
   "codemirror_mode": {
    "name": "ipython",
    "version": 3
   },
   "file_extension": ".py",
   "mimetype": "text/x-python",
   "name": "python",
   "nbconvert_exporter": "python",
   "pygments_lexer": "ipython3",
   "version": "3.8.8"
  }
 },
 "nbformat": 4,
 "nbformat_minor": 5
}
